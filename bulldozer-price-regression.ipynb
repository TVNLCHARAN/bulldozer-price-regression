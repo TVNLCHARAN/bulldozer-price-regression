{
 "cells": [
  {
   "cell_type": "markdown",
   "id": "83751189",
   "metadata": {},
   "source": [
    "#  Predicting the sales price of BullDozers🚜 using Machine Learning\n",
    "## 1. Problem Definition\n",
    "    We should predict the sale price of bulldozer by using Regression model provided the train, validation and test data sets.\n",
    "## 2. Data\n",
    "    The data is downloaded from the kaggle bluebook bulldozer comTrain.csv is the training set, which contains data through the end of 2011.\n",
    "The data is divided into three parts:\n",
    "\n",
    "* Valid.csv is the validation set, which contains data from January 1, 2012 - April 30, 2012 .\n",
    "* Test.csv is the test set, which won't be released until the last week of the competition. It contains data from May 1, 2012 - November 2012.\n",
    "* Train.csv is the training set, which contains data through the end of 2011.\n",
    "\n",
    "## 3. Evaluation\n",
    "    The evaluation metric for this competition is the RMSLE (root mean squared log error) between the actual and predicted auction prices.\n",
    "**Note: The goal for most regression metrics is to reduce the error between predictions and original values.**\n",
    "## 4. Features\n",
    "    \n",
    "## 5. Modeling\n",
    "\n",
    "## 6. Experimentation"
   ]
  },
  {
   "cell_type": "code",
   "execution_count": 97,
   "id": "0833ff49",
   "metadata": {},
   "outputs": [
    {
     "name": "stdout",
     "output_type": "stream",
     "text": [
      "CPU times: total: 0 ns\n",
      "Wall time: 0 ns\n"
     ]
    }
   ],
   "source": [
    "%%time\n",
    "import numpy as np\n",
    "import pandas as pd\n",
    "import matplotlib.pyplot as plt\n",
    "from sklearn.ensemble import RandomForestRegressor"
   ]
  },
  {
   "cell_type": "markdown",
   "id": "6de79e90",
   "metadata": {},
   "source": [
    "# Data"
   ]
  },
  {
   "cell_type": "code",
   "execution_count": 2,
   "id": "c9c82d84",
   "metadata": {},
   "outputs": [],
   "source": [
    "df = pd.read_csv('TrainAndValid.csv',low_memory=False)"
   ]
  },
  {
   "cell_type": "code",
   "execution_count": 3,
   "id": "e60cdb83",
   "metadata": {},
   "outputs": [
    {
     "name": "stdout",
     "output_type": "stream",
     "text": [
      "<class 'pandas.core.frame.DataFrame'>\n",
      "RangeIndex: 412698 entries, 0 to 412697\n",
      "Data columns (total 53 columns):\n",
      " #   Column                    Non-Null Count   Dtype  \n",
      "---  ------                    --------------   -----  \n",
      " 0   SalesID                   412698 non-null  int64  \n",
      " 1   SalePrice                 412698 non-null  float64\n",
      " 2   MachineID                 412698 non-null  int64  \n",
      " 3   ModelID                   412698 non-null  int64  \n",
      " 4   datasource                412698 non-null  int64  \n",
      " 5   auctioneerID              392562 non-null  float64\n",
      " 6   YearMade                  412698 non-null  int64  \n",
      " 7   MachineHoursCurrentMeter  147504 non-null  float64\n",
      " 8   UsageBand                 73670 non-null   object \n",
      " 9   saledate                  412698 non-null  object \n",
      " 10  fiModelDesc               412698 non-null  object \n",
      " 11  fiBaseModel               412698 non-null  object \n",
      " 12  fiSecondaryDesc           271971 non-null  object \n",
      " 13  fiModelSeries             58667 non-null   object \n",
      " 14  fiModelDescriptor         74816 non-null   object \n",
      " 15  ProductSize               196093 non-null  object \n",
      " 16  fiProductClassDesc        412698 non-null  object \n",
      " 17  state                     412698 non-null  object \n",
      " 18  ProductGroup              412698 non-null  object \n",
      " 19  ProductGroupDesc          412698 non-null  object \n",
      " 20  Drive_System              107087 non-null  object \n",
      " 21  Enclosure                 412364 non-null  object \n",
      " 22  Forks                     197715 non-null  object \n",
      " 23  Pad_Type                  81096 non-null   object \n",
      " 24  Ride_Control              152728 non-null  object \n",
      " 25  Stick                     81096 non-null   object \n",
      " 26  Transmission              188007 non-null  object \n",
      " 27  Turbocharged              81096 non-null   object \n",
      " 28  Blade_Extension           25983 non-null   object \n",
      " 29  Blade_Width               25983 non-null   object \n",
      " 30  Enclosure_Type            25983 non-null   object \n",
      " 31  Engine_Horsepower         25983 non-null   object \n",
      " 32  Hydraulics                330133 non-null  object \n",
      " 33  Pushblock                 25983 non-null   object \n",
      " 34  Ripper                    106945 non-null  object \n",
      " 35  Scarifier                 25994 non-null   object \n",
      " 36  Tip_Control               25983 non-null   object \n",
      " 37  Tire_Size                 97638 non-null   object \n",
      " 38  Coupler                   220679 non-null  object \n",
      " 39  Coupler_System            44974 non-null   object \n",
      " 40  Grouser_Tracks            44875 non-null   object \n",
      " 41  Hydraulics_Flow           44875 non-null   object \n",
      " 42  Track_Type                102193 non-null  object \n",
      " 43  Undercarriage_Pad_Width   102916 non-null  object \n",
      " 44  Stick_Length              102261 non-null  object \n",
      " 45  Thumb                     102332 non-null  object \n",
      " 46  Pattern_Changer           102261 non-null  object \n",
      " 47  Grouser_Type              102193 non-null  object \n",
      " 48  Backhoe_Mounting          80712 non-null   object \n",
      " 49  Blade_Type                81875 non-null   object \n",
      " 50  Travel_Controls           81877 non-null   object \n",
      " 51  Differential_Type         71564 non-null   object \n",
      " 52  Steering_Controls         71522 non-null   object \n",
      "dtypes: float64(3), int64(5), object(45)\n",
      "memory usage: 166.9+ MB\n"
     ]
    }
   ],
   "source": [
    "df.info()"
   ]
  },
  {
   "cell_type": "code",
   "execution_count": 4,
   "id": "3d334264",
   "metadata": {},
   "outputs": [
    {
     "data": {
      "text/plain": [
       "SalesID                          0\n",
       "SalePrice                        0\n",
       "MachineID                        0\n",
       "ModelID                          0\n",
       "datasource                       0\n",
       "auctioneerID                 20136\n",
       "YearMade                         0\n",
       "MachineHoursCurrentMeter    265194\n",
       "UsageBand                   339028\n",
       "saledate                         0\n",
       "fiModelDesc                      0\n",
       "fiBaseModel                      0\n",
       "fiSecondaryDesc             140727\n",
       "fiModelSeries               354031\n",
       "fiModelDescriptor           337882\n",
       "ProductSize                 216605\n",
       "fiProductClassDesc               0\n",
       "state                            0\n",
       "ProductGroup                     0\n",
       "ProductGroupDesc                 0\n",
       "Drive_System                305611\n",
       "Enclosure                      334\n",
       "Forks                       214983\n",
       "Pad_Type                    331602\n",
       "Ride_Control                259970\n",
       "Stick                       331602\n",
       "Transmission                224691\n",
       "Turbocharged                331602\n",
       "Blade_Extension             386715\n",
       "Blade_Width                 386715\n",
       "Enclosure_Type              386715\n",
       "Engine_Horsepower           386715\n",
       "Hydraulics                   82565\n",
       "Pushblock                   386715\n",
       "Ripper                      305753\n",
       "Scarifier                   386704\n",
       "Tip_Control                 386715\n",
       "Tire_Size                   315060\n",
       "Coupler                     192019\n",
       "Coupler_System              367724\n",
       "Grouser_Tracks              367823\n",
       "Hydraulics_Flow             367823\n",
       "Track_Type                  310505\n",
       "Undercarriage_Pad_Width     309782\n",
       "Stick_Length                310437\n",
       "Thumb                       310366\n",
       "Pattern_Changer             310437\n",
       "Grouser_Type                310505\n",
       "Backhoe_Mounting            331986\n",
       "Blade_Type                  330823\n",
       "Travel_Controls             330821\n",
       "Differential_Type           341134\n",
       "Steering_Controls           341176\n",
       "dtype: int64"
      ]
     },
     "execution_count": 4,
     "metadata": {},
     "output_type": "execute_result"
    }
   ],
   "source": [
    "df.isna().sum()"
   ]
  },
  {
   "cell_type": "code",
   "execution_count": 5,
   "id": "5b22f622",
   "metadata": {},
   "outputs": [
    {
     "data": {
      "text/plain": [
       "1308"
      ]
     },
     "execution_count": 5,
     "metadata": {},
     "output_type": "execute_result"
    }
   ],
   "source": [
    "len(df[(df.SalePrice < 140000) & (df.SalePrice > 120000)])"
   ]
  },
  {
   "cell_type": "markdown",
   "id": "e5427e2a",
   "metadata": {},
   "source": [
    "# Evaluation"
   ]
  },
  {
   "cell_type": "code",
   "execution_count": 6,
   "id": "3a377da5",
   "metadata": {},
   "outputs": [
    {
     "data": {
      "text/plain": [
       "<Axes: ylabel='Frequency'>"
      ]
     },
     "execution_count": 6,
     "metadata": {},
     "output_type": "execute_result"
    },
    {
     "data": {
      "image/png": "[encoded data removed]",
      "text/plain": [
       "<Figure size 640x480 with 1 Axes>"
      ]
     },
     "metadata": {},
     "output_type": "display_data"
    }
   ],
   "source": [
    "df.SalePrice.plot.hist(color='salmon')"
   ]
  },
  {
   "cell_type": "code",
   "execution_count": 7,
   "id": "3b815b21",
   "metadata": {
    "scrolled": true
   },
   "outputs": [
    {
     "data": {
      "text/plain": [
       "<matplotlib.collections.PathCollection at 0x26924ba1e90>"
      ]
     },
     "execution_count": 7,
     "metadata": {},
     "output_type": "execute_result"
    },
    {
     "data": {
      "image/png": "[encoded data removed]",
      "text/plain": [
       "<Figure size 640x480 with 1 Axes>"
      ]
     },
     "metadata": {},
     "output_type": "display_data"
    }
   ],
   "source": [
    "fig, ax = plt.subplots()\n",
    "ax.scatter(df.saledate[:1000], df.SalePrice[:1000], c='salmon')"
   ]
  },
  {
   "cell_type": "code",
   "execution_count": 8,
   "id": "4d2e94c0",
   "metadata": {},
   "outputs": [],
   "source": [
    "df = pd.read_csv('TrainAndValid.csv',low_memory=False, parse_dates=['saledate'])"
   ]
  },
  {
   "cell_type": "code",
   "execution_count": 9,
   "id": "4f2c509c",
   "metadata": {},
   "outputs": [
    {
     "data": {
      "text/plain": [
       "dtype('<M8[ns]')"
      ]
     },
     "execution_count": 9,
     "metadata": {},
     "output_type": "execute_result"
    }
   ],
   "source": [
    "df.saledate.dtype"
   ]
  },
  {
   "cell_type": "code",
   "execution_count": 10,
   "id": "c2cb1c36",
   "metadata": {},
   "outputs": [
    {
     "data": {
      "text/plain": [
       "0        2006-11-16\n",
       "1        2004-03-26\n",
       "2        2004-02-26\n",
       "3        2011-05-19\n",
       "4        2009-07-23\n",
       "            ...    \n",
       "412693   2012-03-07\n",
       "412694   2012-01-28\n",
       "412695   2012-01-28\n",
       "412696   2012-03-07\n",
       "412697   2012-01-28\n",
       "Name: saledate, Length: 412698, dtype: datetime64[ns]"
      ]
     },
     "execution_count": 10,
     "metadata": {},
     "output_type": "execute_result"
    }
   ],
   "source": [
    "df.saledate"
   ]
  },
  {
   "cell_type": "code",
   "execution_count": 11,
   "id": "d9585cc0",
   "metadata": {},
   "outputs": [
    {
     "data": {
      "text/plain": [
       "<matplotlib.collections.PathCollection at 0x26924a35450>"
      ]
     },
     "execution_count": 11,
     "metadata": {},
     "output_type": "execute_result"
    },
    {
     "data": {
      "image/png": "[encoded data removed]",
      "text/plain": [
       "<Figure size 640x480 with 1 Axes>"
      ]
     },
     "metadata": {},
     "output_type": "display_data"
    }
   ],
   "source": [
    "fig, ax = plt.subplots()\n",
    "ax.scatter(df.saledate[:1000], df.SalePrice[:1000], c='salmon')"
   ]
  },
  {
   "cell_type": "code",
   "execution_count": 12,
   "id": "7a1cc4bc",
   "metadata": {},
   "outputs": [],
   "source": [
    "## Sorting dataframe based on saledate(when woring with time series data, it's a good idea to sort)\n",
    "df.sort_values(by='saledate', inplace =True)"
   ]
  },
  {
   "cell_type": "code",
   "execution_count": 13,
   "id": "c37b8eed",
   "metadata": {},
   "outputs": [],
   "source": [
    "df.index = [i for i in range(len(df))]"
   ]
  },
  {
   "cell_type": "code",
   "execution_count": 14,
   "id": "7206daa2",
   "metadata": {},
   "outputs": [
    {
     "data": {
      "text/html": [
       "<div>\n",
       "<style scoped>\n",
       "    .dataframe tbody tr th:only-of-type {\n",
       "        vertical-align: middle;\n",
       "    }\n",
       "\n",
       "    .dataframe tbody tr th {\n",
       "        vertical-align: top;\n",
       "    }\n",
       "\n",
       "    .dataframe thead th {\n",
       "        text-align: right;\n",
       "    }\n",
       "</style>\n",
       "<table border=\"1\" class=\"dataframe\">\n",
       "  <thead>\n",
       "    <tr style=\"text-align: right;\">\n",
       "      <th></th>\n",
       "      <th>SalesID</th>\n",
       "      <th>SalePrice</th>\n",
       "      <th>MachineID</th>\n",
       "      <th>ModelID</th>\n",
       "      <th>datasource</th>\n",
       "      <th>auctioneerID</th>\n",
       "      <th>YearMade</th>\n",
       "      <th>MachineHoursCurrentMeter</th>\n",
       "      <th>UsageBand</th>\n",
       "      <th>saledate</th>\n",
       "      <th>...</th>\n",
       "      <th>Undercarriage_Pad_Width</th>\n",
       "      <th>Stick_Length</th>\n",
       "      <th>Thumb</th>\n",
       "      <th>Pattern_Changer</th>\n",
       "      <th>Grouser_Type</th>\n",
       "      <th>Backhoe_Mounting</th>\n",
       "      <th>Blade_Type</th>\n",
       "      <th>Travel_Controls</th>\n",
       "      <th>Differential_Type</th>\n",
       "      <th>Steering_Controls</th>\n",
       "    </tr>\n",
       "  </thead>\n",
       "  <tbody>\n",
       "    <tr>\n",
       "      <th>0</th>\n",
       "      <td>1646770</td>\n",
       "      <td>9500.0</td>\n",
       "      <td>1126363</td>\n",
       "      <td>8434</td>\n",
       "      <td>132</td>\n",
       "      <td>18.0</td>\n",
       "      <td>1974</td>\n",
       "      <td>NaN</td>\n",
       "      <td>NaN</td>\n",
       "      <td>1989-01-17</td>\n",
       "      <td>...</td>\n",
       "      <td>NaN</td>\n",
       "      <td>NaN</td>\n",
       "      <td>NaN</td>\n",
       "      <td>NaN</td>\n",
       "      <td>NaN</td>\n",
       "      <td>None or Unspecified</td>\n",
       "      <td>Straight</td>\n",
       "      <td>None or Unspecified</td>\n",
       "      <td>NaN</td>\n",
       "      <td>NaN</td>\n",
       "    </tr>\n",
       "    <tr>\n",
       "      <th>1</th>\n",
       "      <td>1821514</td>\n",
       "      <td>14000.0</td>\n",
       "      <td>1194089</td>\n",
       "      <td>10150</td>\n",
       "      <td>132</td>\n",
       "      <td>99.0</td>\n",
       "      <td>1980</td>\n",
       "      <td>NaN</td>\n",
       "      <td>NaN</td>\n",
       "      <td>1989-01-31</td>\n",
       "      <td>...</td>\n",
       "      <td>NaN</td>\n",
       "      <td>NaN</td>\n",
       "      <td>NaN</td>\n",
       "      <td>NaN</td>\n",
       "      <td>NaN</td>\n",
       "      <td>NaN</td>\n",
       "      <td>NaN</td>\n",
       "      <td>NaN</td>\n",
       "      <td>Standard</td>\n",
       "      <td>Conventional</td>\n",
       "    </tr>\n",
       "    <tr>\n",
       "      <th>2</th>\n",
       "      <td>1505138</td>\n",
       "      <td>50000.0</td>\n",
       "      <td>1473654</td>\n",
       "      <td>4139</td>\n",
       "      <td>132</td>\n",
       "      <td>99.0</td>\n",
       "      <td>1978</td>\n",
       "      <td>NaN</td>\n",
       "      <td>NaN</td>\n",
       "      <td>1989-01-31</td>\n",
       "      <td>...</td>\n",
       "      <td>NaN</td>\n",
       "      <td>NaN</td>\n",
       "      <td>NaN</td>\n",
       "      <td>NaN</td>\n",
       "      <td>NaN</td>\n",
       "      <td>None or Unspecified</td>\n",
       "      <td>Straight</td>\n",
       "      <td>None or Unspecified</td>\n",
       "      <td>NaN</td>\n",
       "      <td>NaN</td>\n",
       "    </tr>\n",
       "    <tr>\n",
       "      <th>3</th>\n",
       "      <td>1671174</td>\n",
       "      <td>16000.0</td>\n",
       "      <td>1327630</td>\n",
       "      <td>8591</td>\n",
       "      <td>132</td>\n",
       "      <td>99.0</td>\n",
       "      <td>1980</td>\n",
       "      <td>NaN</td>\n",
       "      <td>NaN</td>\n",
       "      <td>1989-01-31</td>\n",
       "      <td>...</td>\n",
       "      <td>NaN</td>\n",
       "      <td>NaN</td>\n",
       "      <td>NaN</td>\n",
       "      <td>NaN</td>\n",
       "      <td>NaN</td>\n",
       "      <td>NaN</td>\n",
       "      <td>NaN</td>\n",
       "      <td>NaN</td>\n",
       "      <td>Standard</td>\n",
       "      <td>Conventional</td>\n",
       "    </tr>\n",
       "    <tr>\n",
       "      <th>4</th>\n",
       "      <td>1329056</td>\n",
       "      <td>22000.0</td>\n",
       "      <td>1336053</td>\n",
       "      <td>4089</td>\n",
       "      <td>132</td>\n",
       "      <td>99.0</td>\n",
       "      <td>1984</td>\n",
       "      <td>NaN</td>\n",
       "      <td>NaN</td>\n",
       "      <td>1989-01-31</td>\n",
       "      <td>...</td>\n",
       "      <td>NaN</td>\n",
       "      <td>NaN</td>\n",
       "      <td>NaN</td>\n",
       "      <td>NaN</td>\n",
       "      <td>NaN</td>\n",
       "      <td>None or Unspecified</td>\n",
       "      <td>PAT</td>\n",
       "      <td>Lever</td>\n",
       "      <td>NaN</td>\n",
       "      <td>NaN</td>\n",
       "    </tr>\n",
       "  </tbody>\n",
       "</table>\n",
       "<p>5 rows × 53 columns</p>\n",
       "</div>"
      ],
      "text/plain": [
       "   SalesID  SalePrice  MachineID  ModelID  datasource  auctioneerID  YearMade   \n",
       "0  1646770     9500.0    1126363     8434         132          18.0      1974  \\\n",
       "1  1821514    14000.0    1194089    10150         132          99.0      1980   \n",
       "2  1505138    50000.0    1473654     4139         132          99.0      1978   \n",
       "3  1671174    16000.0    1327630     8591         132          99.0      1980   \n",
       "4  1329056    22000.0    1336053     4089         132          99.0      1984   \n",
       "\n",
       "   MachineHoursCurrentMeter UsageBand   saledate  ... Undercarriage_Pad_Width   \n",
       "0                       NaN       NaN 1989-01-17  ...                     NaN  \\\n",
       "1                       NaN       NaN 1989-01-31  ...                     NaN   \n",
       "2                       NaN       NaN 1989-01-31  ...                     NaN   \n",
       "3                       NaN       NaN 1989-01-31  ...                     NaN   \n",
       "4                       NaN       NaN 1989-01-31  ...                     NaN   \n",
       "\n",
       "  Stick_Length Thumb Pattern_Changer Grouser_Type     Backhoe_Mounting   \n",
       "0          NaN   NaN             NaN          NaN  None or Unspecified  \\\n",
       "1          NaN   NaN             NaN          NaN                  NaN   \n",
       "2          NaN   NaN             NaN          NaN  None or Unspecified   \n",
       "3          NaN   NaN             NaN          NaN                  NaN   \n",
       "4          NaN   NaN             NaN          NaN  None or Unspecified   \n",
       "\n",
       "  Blade_Type      Travel_Controls Differential_Type Steering_Controls  \n",
       "0   Straight  None or Unspecified               NaN               NaN  \n",
       "1        NaN                  NaN          Standard      Conventional  \n",
       "2   Straight  None or Unspecified               NaN               NaN  \n",
       "3        NaN                  NaN          Standard      Conventional  \n",
       "4        PAT                Lever               NaN               NaN  \n",
       "\n",
       "[5 rows x 53 columns]"
      ]
     },
     "execution_count": 14,
     "metadata": {},
     "output_type": "execute_result"
    }
   ],
   "source": [
    "df.head()"
   ]
  },
  {
   "cell_type": "code",
   "execution_count": 15,
   "id": "fb0a228a",
   "metadata": {},
   "outputs": [],
   "source": [
    "# It's a good idea to copy the original data frame after making required changes\n",
    "df_temp = df.copy()"
   ]
  },
  {
   "cell_type": "markdown",
   "id": "df6c35fb",
   "metadata": {},
   "source": [
    "# Feature Engineering\n",
    "### Adding datetime parameters to the saledate column"
   ]
  },
  {
   "cell_type": "code",
   "execution_count": 16,
   "id": "44c3725b",
   "metadata": {},
   "outputs": [],
   "source": [
    "df['SaleYear'] = df.saledate.dt.year\n",
    "df['SaleMonth'] = df.saledate.dt.month\n",
    "df['SaleDay'] = df.saledate.dt.day\n",
    "df['SaleDayOfWeek'] = df.saledate.dt.day_of_week\n",
    "df['SaleDayOfYear'] = df.saledate.dt.day_of_year"
   ]
  },
  {
   "cell_type": "code",
   "execution_count": 17,
   "id": "6d251b63",
   "metadata": {},
   "outputs": [],
   "source": [
    "# Now we have enriched our saledate column. It's time to drop it.\n",
    "df.drop('saledate',axis=1,inplace=True)"
   ]
  },
  {
   "cell_type": "code",
   "execution_count": 18,
   "id": "ad65312d",
   "metadata": {},
   "outputs": [
    {
     "data": {
      "text/plain": [
       "state\n",
       "Florida           67320\n",
       "Texas             53110\n",
       "California        29761\n",
       "Washington        16222\n",
       "Georgia           14633\n",
       "Maryland          13322\n",
       "Mississippi       13240\n",
       "Ohio              12369\n",
       "Illinois          11540\n",
       "Colorado          11529\n",
       "New Jersey        11156\n",
       "North Carolina    10636\n",
       "Tennessee         10298\n",
       "Alabama           10292\n",
       "Pennsylvania      10234\n",
       "South Carolina     9951\n",
       "Arizona            9364\n",
       "New York           8639\n",
       "Connecticut        8276\n",
       "Minnesota          7885\n",
       "Missouri           7178\n",
       "Nevada             6932\n",
       "Louisiana          6627\n",
       "Kentucky           5351\n",
       "Maine              5096\n",
       "Indiana            4124\n",
       "Arkansas           3933\n",
       "New Mexico         3631\n",
       "Utah               3046\n",
       "Unspecified        2801\n",
       "Wisconsin          2745\n",
       "New Hampshire      2738\n",
       "Virginia           2353\n",
       "Idaho              2025\n",
       "Oregon             1911\n",
       "Michigan           1831\n",
       "Wyoming            1672\n",
       "Montana            1336\n",
       "Iowa               1336\n",
       "Oklahoma           1326\n",
       "Nebraska            866\n",
       "West Virginia       840\n",
       "Kansas              667\n",
       "Delaware            510\n",
       "North Dakota        480\n",
       "Alaska              430\n",
       "Massachusetts       347\n",
       "Vermont             300\n",
       "South Dakota        244\n",
       "Hawaii              118\n",
       "Rhode Island         83\n",
       "Puerto Rico          42\n",
       "Washington DC         2\n",
       "Name: count, dtype: int64"
      ]
     },
     "execution_count": 18,
     "metadata": {},
     "output_type": "execute_result"
    }
   ],
   "source": [
    "df.state.value_counts()"
   ]
  },
  {
   "cell_type": "markdown",
   "id": "1a14ed38",
   "metadata": {},
   "source": [
    "# Modelling"
   ]
  },
  {
   "cell_type": "code",
   "execution_count": 40,
   "id": "e37564b7",
   "metadata": {},
   "outputs": [
    {
     "name": "stdout",
     "output_type": "stream",
     "text": [
      "UsageBand\n",
      "fiModelDesc\n",
      "fiBaseModel\n",
      "fiSecondaryDesc\n",
      "fiModelSeries\n",
      "fiModelDescriptor\n",
      "ProductSize\n",
      "fiProductClassDesc\n",
      "state\n",
      "ProductGroup\n",
      "ProductGroupDesc\n",
      "Drive_System\n",
      "Enclosure\n",
      "Forks\n",
      "Pad_Type\n",
      "Ride_Control\n",
      "Stick\n",
      "Transmission\n",
      "Turbocharged\n",
      "Blade_Extension\n",
      "Blade_Width\n",
      "Enclosure_Type\n",
      "Engine_Horsepower\n",
      "Hydraulics\n",
      "Pushblock\n",
      "Ripper\n",
      "Scarifier\n",
      "Tip_Control\n",
      "Tire_Size\n",
      "Coupler\n",
      "Coupler_System\n",
      "Grouser_Tracks\n",
      "Hydraulics_Flow\n",
      "Track_Type\n",
      "Undercarriage_Pad_Width\n",
      "Stick_Length\n",
      "Thumb\n",
      "Pattern_Changer\n",
      "Grouser_Type\n",
      "Backhoe_Mounting\n",
      "Blade_Type\n",
      "Travel_Controls\n",
      "Differential_Type\n",
      "Steering_Controls\n"
     ]
    }
   ],
   "source": [
    "for label, content in df.items():\n",
    "    if pd.api.types.is_object_dtype(content):\n",
    "        print(label)"
   ]
  },
  {
   "cell_type": "code",
   "execution_count": 44,
   "id": "fe510b9a",
   "metadata": {},
   "outputs": [],
   "source": [
    "for label, content in df.items():\n",
    "    if pd.api.types.is_object_dtype(content):\n",
    "        df[label] = content.astype('category').cat.as_ordered()"
   ]
  },
  {
   "cell_type": "code",
   "execution_count": 45,
   "id": "986cf408",
   "metadata": {},
   "outputs": [
    {
     "name": "stdout",
     "output_type": "stream",
     "text": [
      "<class 'pandas.core.frame.DataFrame'>\n",
      "Index: 412698 entries, 0 to 412697\n",
      "Data columns (total 57 columns):\n",
      " #   Column                    Non-Null Count   Dtype   \n",
      "---  ------                    --------------   -----   \n",
      " 0   SalesID                   412698 non-null  int64   \n",
      " 1   SalePrice                 412698 non-null  float64 \n",
      " 2   MachineID                 412698 non-null  int64   \n",
      " 3   ModelID                   412698 non-null  int64   \n",
      " 4   datasource                412698 non-null  int64   \n",
      " 5   auctioneerID              392562 non-null  float64 \n",
      " 6   YearMade                  412698 non-null  int64   \n",
      " 7   MachineHoursCurrentMeter  147504 non-null  float64 \n",
      " 8   UsageBand                 73670 non-null   category\n",
      " 9   fiModelDesc               412698 non-null  category\n",
      " 10  fiBaseModel               412698 non-null  category\n",
      " 11  fiSecondaryDesc           271971 non-null  category\n",
      " 12  fiModelSeries             58667 non-null   category\n",
      " 13  fiModelDescriptor         74816 non-null   category\n",
      " 14  ProductSize               196093 non-null  category\n",
      " 15  fiProductClassDesc        412698 non-null  category\n",
      " 16  state                     412698 non-null  category\n",
      " 17  ProductGroup              412698 non-null  category\n",
      " 18  ProductGroupDesc          412698 non-null  category\n",
      " 19  Drive_System              107087 non-null  category\n",
      " 20  Enclosure                 412364 non-null  category\n",
      " 21  Forks                     197715 non-null  category\n",
      " 22  Pad_Type                  81096 non-null   category\n",
      " 23  Ride_Control              152728 non-null  category\n",
      " 24  Stick                     81096 non-null   category\n",
      " 25  Transmission              188007 non-null  category\n",
      " 26  Turbocharged              81096 non-null   category\n",
      " 27  Blade_Extension           25983 non-null   category\n",
      " 28  Blade_Width               25983 non-null   category\n",
      " 29  Enclosure_Type            25983 non-null   category\n",
      " 30  Engine_Horsepower         25983 non-null   category\n",
      " 31  Hydraulics                330133 non-null  category\n",
      " 32  Pushblock                 25983 non-null   category\n",
      " 33  Ripper                    106945 non-null  category\n",
      " 34  Scarifier                 25994 non-null   category\n",
      " 35  Tip_Control               25983 non-null   category\n",
      " 36  Tire_Size                 97638 non-null   category\n",
      " 37  Coupler                   220679 non-null  category\n",
      " 38  Coupler_System            44974 non-null   category\n",
      " 39  Grouser_Tracks            44875 non-null   category\n",
      " 40  Hydraulics_Flow           44875 non-null   category\n",
      " 41  Track_Type                102193 non-null  category\n",
      " 42  Undercarriage_Pad_Width   102916 non-null  category\n",
      " 43  Stick_Length              102261 non-null  category\n",
      " 44  Thumb                     102332 non-null  category\n",
      " 45  Pattern_Changer           102261 non-null  category\n",
      " 46  Grouser_Type              102193 non-null  category\n",
      " 47  Backhoe_Mounting          80712 non-null   category\n",
      " 48  Blade_Type                81875 non-null   category\n",
      " 49  Travel_Controls           81877 non-null   category\n",
      " 50  Differential_Type         71564 non-null   category\n",
      " 51  Steering_Controls         71522 non-null   category\n",
      " 52  SaleYear                  412698 non-null  int32   \n",
      " 53  SaleMonth                 412698 non-null  int32   \n",
      " 54  SaleDay                   412698 non-null  int32   \n",
      " 55  SaleDayOfWeek             412698 non-null  int32   \n",
      " 56  SaleDayOfYear             412698 non-null  int32   \n",
      "dtypes: category(44), float64(3), int32(5), int64(5)\n",
      "memory usage: 55.4 MB\n"
     ]
    }
   ],
   "source": [
    "df.info()"
   ]
  },
  {
   "cell_type": "code",
   "execution_count": 47,
   "id": "b400bbaa",
   "metadata": {},
   "outputs": [
    {
     "data": {
      "text/plain": [
       "CategoricalDtype(categories=['Alabama', 'Alaska', 'Arizona', 'Arkansas', 'California',\n",
       "                  'Colorado', 'Connecticut', 'Delaware', 'Florida', 'Georgia',\n",
       "                  'Hawaii', 'Idaho', 'Illinois', 'Indiana', 'Iowa', 'Kansas',\n",
       "                  'Kentucky', 'Louisiana', 'Maine', 'Maryland',\n",
       "                  'Massachusetts', 'Michigan', 'Minnesota', 'Mississippi',\n",
       "                  'Missouri', 'Montana', 'Nebraska', 'Nevada', 'New Hampshire',\n",
       "                  'New Jersey', 'New Mexico', 'New York', 'North Carolina',\n",
       "                  'North Dakota', 'Ohio', 'Oklahoma', 'Oregon', 'Pennsylvania',\n",
       "                  'Puerto Rico', 'Rhode Island', 'South Carolina',\n",
       "                  'South Dakota', 'Tennessee', 'Texas', 'Unspecified', 'Utah',\n",
       "                  'Vermont', 'Virginia', 'Washington', 'Washington DC',\n",
       "                  'West Virginia', 'Wisconsin', 'Wyoming'],\n",
       ", ordered=True)"
      ]
     },
     "execution_count": 47,
     "metadata": {},
     "output_type": "execute_result"
    }
   ],
   "source": [
    "df.state.dtype"
   ]
  },
  {
   "cell_type": "code",
   "execution_count": 48,
   "id": "a1a02ffa",
   "metadata": {},
   "outputs": [
    {
     "data": {
      "text/plain": [
       "0         43\n",
       "1          8\n",
       "2          8\n",
       "3          8\n",
       "4          8\n",
       "          ..\n",
       "412693     4\n",
       "412694     4\n",
       "412695     4\n",
       "412696     4\n",
       "412697     4\n",
       "Length: 412698, dtype: int8"
      ]
     },
     "execution_count": 48,
     "metadata": {},
     "output_type": "execute_result"
    }
   ],
   "source": [
    "df.state.cat.codes"
   ]
  },
  {
   "cell_type": "code",
   "execution_count": 53,
   "id": "3c7b78ed",
   "metadata": {},
   "outputs": [
    {
     "data": {
      "text/plain": [
       "SalesID                     0.000000\n",
       "SalePrice                   0.000000\n",
       "MachineID                   0.000000\n",
       "ModelID                     0.000000\n",
       "datasource                  0.000000\n",
       "auctioneerID                0.048791\n",
       "YearMade                    0.000000\n",
       "MachineHoursCurrentMeter    0.642586\n",
       "UsageBand                   0.821492\n",
       "fiModelDesc                 0.000000\n",
       "fiBaseModel                 0.000000\n",
       "fiSecondaryDesc             0.340993\n",
       "fiModelSeries               0.857845\n",
       "fiModelDescriptor           0.818715\n",
       "ProductSize                 0.524851\n",
       "fiProductClassDesc          0.000000\n",
       "state                       0.000000\n",
       "ProductGroup                0.000000\n",
       "ProductGroupDesc            0.000000\n",
       "Drive_System                0.740520\n",
       "Enclosure                   0.000809\n",
       "Forks                       0.520921\n",
       "Pad_Type                    0.803498\n",
       "Ride_Control                0.629928\n",
       "Stick                       0.803498\n",
       "Transmission                0.544444\n",
       "Turbocharged                0.803498\n",
       "Blade_Extension             0.937041\n",
       "Blade_Width                 0.937041\n",
       "Enclosure_Type              0.937041\n",
       "Engine_Horsepower           0.937041\n",
       "Hydraulics                  0.200062\n",
       "Pushblock                   0.937041\n",
       "Ripper                      0.740864\n",
       "Scarifier                   0.937014\n",
       "Tip_Control                 0.937041\n",
       "Tire_Size                   0.763415\n",
       "Coupler                     0.465277\n",
       "Coupler_System              0.891024\n",
       "Grouser_Tracks              0.891264\n",
       "Hydraulics_Flow             0.891264\n",
       "Track_Type                  0.752378\n",
       "Undercarriage_Pad_Width     0.750626\n",
       "Stick_Length                0.752213\n",
       "Thumb                       0.752041\n",
       "Pattern_Changer             0.752213\n",
       "Grouser_Type                0.752378\n",
       "Backhoe_Mounting            0.804428\n",
       "Blade_Type                  0.801610\n",
       "Travel_Controls             0.801606\n",
       "Differential_Type           0.826595\n",
       "Steering_Controls           0.826697\n",
       "SaleYear                    0.000000\n",
       "SaleMonth                   0.000000\n",
       "SaleDay                     0.000000\n",
       "SaleDayOfWeek               0.000000\n",
       "SaleDayOfYear               0.000000\n",
       "dtype: float64"
      ]
     },
     "execution_count": 53,
     "metadata": {},
     "output_type": "execute_result"
    }
   ],
   "source": [
    "df.isna().sum()/len(df)"
   ]
  },
  {
   "cell_type": "markdown",
   "id": "f70b789d",
   "metadata": {},
   "source": [
    "## Filling numerical missing values"
   ]
  },
  {
   "cell_type": "code",
   "execution_count": 70,
   "id": "d439f176",
   "metadata": {},
   "outputs": [
    {
     "name": "stdout",
     "output_type": "stream",
     "text": [
      "auctioneerID\n",
      "MachineHoursCurrentMeter\n"
     ]
    }
   ],
   "source": [
    "for label, content in df.items():\n",
    "    if pd.api.types.is_numeric_dtype(content):\n",
    "        if df[label].isna().sum():\n",
    "            print(label)"
   ]
  },
  {
   "cell_type": "code",
   "execution_count": 68,
   "id": "c37942a6",
   "metadata": {},
   "outputs": [
    {
     "data": {
      "text/plain": [
       "(20136, 265194)"
      ]
     },
     "execution_count": 68,
     "metadata": {},
     "output_type": "execute_result"
    }
   ],
   "source": [
    "df.auctioneerID.isna().sum(), df.MachineHoursCurrentMeter.isna().sum()"
   ]
  },
  {
   "cell_type": "code",
   "execution_count": 76,
   "id": "87747f1c",
   "metadata": {},
   "outputs": [
    {
     "data": {
      "text/plain": [
       "auctioneerID\n",
       "1.0     192773\n",
       "2.0      77577\n",
       "3.0      30288\n",
       "4.0      20877\n",
       "99.0     12042\n",
       "6.0      11950\n",
       "7.0       7847\n",
       "8.0       7419\n",
       "5.0       7002\n",
       "10.0      5876\n",
       "9.0       4764\n",
       "11.0      3823\n",
       "12.0      3610\n",
       "13.0      3068\n",
       "18.0      2359\n",
       "14.0      2277\n",
       "20.0      2238\n",
       "19.0      2074\n",
       "16.0      1807\n",
       "15.0      1742\n",
       "21.0      1601\n",
       "22.0      1429\n",
       "24.0      1357\n",
       "23.0      1322\n",
       "17.0      1275\n",
       "27.0      1150\n",
       "25.0       959\n",
       "28.0       860\n",
       "26.0       796\n",
       "0.0        536\n",
       "Name: count, dtype: int64"
      ]
     },
     "execution_count": 76,
     "metadata": {},
     "output_type": "execute_result"
    }
   ],
   "source": [
    "df.auctioneerID.value_counts()"
   ]
  },
  {
   "cell_type": "code",
   "execution_count": 72,
   "id": "437bc8ec",
   "metadata": {},
   "outputs": [],
   "source": [
    "df.auctioneerID.fillna(round(df.auctioneerID.median()),inplace=True)"
   ]
  },
  {
   "cell_type": "code",
   "execution_count": 73,
   "id": "7474e23f",
   "metadata": {},
   "outputs": [],
   "source": [
    "df.MachineHoursCurrentMeter.fillna(round(df.MachineHoursCurrentMeter.median()),inplace=True)"
   ]
  },
  {
   "cell_type": "code",
   "execution_count": 74,
   "id": "0a262bd0",
   "metadata": {
    "scrolled": true
   },
   "outputs": [
    {
     "data": {
      "text/plain": [
       "(0, 0)"
      ]
     },
     "execution_count": 74,
     "metadata": {},
     "output_type": "execute_result"
    }
   ],
   "source": [
    "df.auctioneerID.isna().sum(), df.MachineHoursCurrentMeter.isna().sum()"
   ]
  },
  {
   "cell_type": "code",
   "execution_count": 75,
   "id": "14aa2fc8",
   "metadata": {},
   "outputs": [],
   "source": [
    "for label, content in df.items():\n",
    "    if pd.api.types.is_numeric_dtype(content):\n",
    "        if df[label].isna().sum():\n",
    "            print(label)"
   ]
  },
  {
   "cell_type": "markdown",
   "id": "99db5faa",
   "metadata": {},
   "source": [
    "### Filling missing values in Categorical columns"
   ]
  },
  {
   "cell_type": "code",
   "execution_count": 88,
   "id": "98458219",
   "metadata": {},
   "outputs": [
    {
     "name": "stdout",
     "output_type": "stream",
     "text": [
      "UsageBand\n",
      "fiSecondaryDesc\n",
      "fiModelSeries\n",
      "fiModelDescriptor\n",
      "ProductSize\n",
      "Drive_System\n",
      "Enclosure\n",
      "Forks\n",
      "Pad_Type\n",
      "Ride_Control\n",
      "Stick\n",
      "Transmission\n",
      "Turbocharged\n",
      "Blade_Extension\n",
      "Blade_Width\n",
      "Enclosure_Type\n",
      "Engine_Horsepower\n",
      "Hydraulics\n",
      "Pushblock\n",
      "Ripper\n",
      "Scarifier\n",
      "Tip_Control\n",
      "Tire_Size\n",
      "Coupler\n",
      "Coupler_System\n",
      "Grouser_Tracks\n",
      "Hydraulics_Flow\n",
      "Track_Type\n",
      "Undercarriage_Pad_Width\n",
      "Stick_Length\n",
      "Thumb\n",
      "Pattern_Changer\n",
      "Grouser_Type\n",
      "Backhoe_Mounting\n",
      "Blade_Type\n",
      "Travel_Controls\n",
      "Differential_Type\n",
      "Steering_Controls\n"
     ]
    }
   ],
   "source": [
    "for label, content in df.items():\n",
    "    if not pd.api.types.is_numeric_dtype(content):\n",
    "        if df[label].isna().sum():\n",
    "            print(label)"
   ]
  },
  {
   "cell_type": "code",
   "execution_count": 89,
   "id": "7d14c715",
   "metadata": {},
   "outputs": [],
   "source": [
    "for label, content in df.items():\n",
    "    if not pd.api.types.is_numeric_dtype(content):\n",
    "        df[label+'is_missing'] = pd.isnull(content)\n",
    "        df[label] = pd.Categorical(content).codes + 1"
   ]
  },
  {
   "cell_type": "code",
   "execution_count": 91,
   "id": "d9a103cc",
   "metadata": {},
   "outputs": [],
   "source": [
    "# All categorical values are filled\n",
    "for label, content in df.items():\n",
    "    if not pd.api.types.is_numeric_dtype(content):\n",
    "        if df[label].isna().sum():\n",
    "            print(label)"
   ]
  },
  {
   "cell_type": "code",
   "execution_count": 93,
   "id": "cc5b48f9",
   "metadata": {},
   "outputs": [
    {
     "data": {
      "text/html": [
       "<div>\n",
       "<style scoped>\n",
       "    .dataframe tbody tr th:only-of-type {\n",
       "        vertical-align: middle;\n",
       "    }\n",
       "\n",
       "    .dataframe tbody tr th {\n",
       "        vertical-align: top;\n",
       "    }\n",
       "\n",
       "    .dataframe thead th {\n",
       "        text-align: right;\n",
       "    }\n",
       "</style>\n",
       "<table border=\"1\" class=\"dataframe\">\n",
       "  <thead>\n",
       "    <tr style=\"text-align: right;\">\n",
       "      <th></th>\n",
       "      <th>0</th>\n",
       "      <th>1</th>\n",
       "      <th>2</th>\n",
       "      <th>3</th>\n",
       "      <th>4</th>\n",
       "      <th>5</th>\n",
       "      <th>6</th>\n",
       "      <th>7</th>\n",
       "      <th>8</th>\n",
       "      <th>9</th>\n",
       "      <th>...</th>\n",
       "      <th>412688</th>\n",
       "      <th>412689</th>\n",
       "      <th>412690</th>\n",
       "      <th>412691</th>\n",
       "      <th>412692</th>\n",
       "      <th>412693</th>\n",
       "      <th>412694</th>\n",
       "      <th>412695</th>\n",
       "      <th>412696</th>\n",
       "      <th>412697</th>\n",
       "    </tr>\n",
       "  </thead>\n",
       "  <tbody>\n",
       "    <tr>\n",
       "      <th>SalesID</th>\n",
       "      <td>1646770</td>\n",
       "      <td>1821514</td>\n",
       "      <td>1505138</td>\n",
       "      <td>1671174</td>\n",
       "      <td>1329056</td>\n",
       "      <td>1301884</td>\n",
       "      <td>1379228</td>\n",
       "      <td>1645390</td>\n",
       "      <td>1493279</td>\n",
       "      <td>1449549</td>\n",
       "      <td>...</td>\n",
       "      <td>6283634</td>\n",
       "      <td>6282337</td>\n",
       "      <td>6311321</td>\n",
       "      <td>6306476</td>\n",
       "      <td>6281219</td>\n",
       "      <td>6302984</td>\n",
       "      <td>6324811</td>\n",
       "      <td>6313029</td>\n",
       "      <td>6266251</td>\n",
       "      <td>6283635</td>\n",
       "    </tr>\n",
       "    <tr>\n",
       "      <th>SalePrice</th>\n",
       "      <td>9500.0</td>\n",
       "      <td>14000.0</td>\n",
       "      <td>50000.0</td>\n",
       "      <td>16000.0</td>\n",
       "      <td>22000.0</td>\n",
       "      <td>23500.0</td>\n",
       "      <td>31000.0</td>\n",
       "      <td>11750.0</td>\n",
       "      <td>63000.0</td>\n",
       "      <td>13000.0</td>\n",
       "      <td>...</td>\n",
       "      <td>35000.0</td>\n",
       "      <td>7500.0</td>\n",
       "      <td>13000.0</td>\n",
       "      <td>53000.0</td>\n",
       "      <td>39000.0</td>\n",
       "      <td>16000.0</td>\n",
       "      <td>6000.0</td>\n",
       "      <td>16000.0</td>\n",
       "      <td>55000.0</td>\n",
       "      <td>34000.0</td>\n",
       "    </tr>\n",
       "    <tr>\n",
       "      <th>MachineID</th>\n",
       "      <td>1126363</td>\n",
       "      <td>1194089</td>\n",
       "      <td>1473654</td>\n",
       "      <td>1327630</td>\n",
       "      <td>1336053</td>\n",
       "      <td>1182999</td>\n",
       "      <td>1082797</td>\n",
       "      <td>1527216</td>\n",
       "      <td>1363756</td>\n",
       "      <td>1289412</td>\n",
       "      <td>...</td>\n",
       "      <td>1930870</td>\n",
       "      <td>1928688</td>\n",
       "      <td>1823846</td>\n",
       "      <td>1278794</td>\n",
       "      <td>1792049</td>\n",
       "      <td>1915521</td>\n",
       "      <td>1919104</td>\n",
       "      <td>1918416</td>\n",
       "      <td>509560</td>\n",
       "      <td>1869284</td>\n",
       "    </tr>\n",
       "    <tr>\n",
       "      <th>ModelID</th>\n",
       "      <td>8434</td>\n",
       "      <td>10150</td>\n",
       "      <td>4139</td>\n",
       "      <td>8591</td>\n",
       "      <td>4089</td>\n",
       "      <td>4123</td>\n",
       "      <td>7620</td>\n",
       "      <td>8202</td>\n",
       "      <td>2759</td>\n",
       "      <td>3356</td>\n",
       "      <td>...</td>\n",
       "      <td>4701</td>\n",
       "      <td>22072</td>\n",
       "      <td>17311</td>\n",
       "      <td>9114</td>\n",
       "      <td>13976</td>\n",
       "      <td>5266</td>\n",
       "      <td>19330</td>\n",
       "      <td>17244</td>\n",
       "      <td>3357</td>\n",
       "      <td>4701</td>\n",
       "    </tr>\n",
       "    <tr>\n",
       "      <th>datasource</th>\n",
       "      <td>132</td>\n",
       "      <td>132</td>\n",
       "      <td>132</td>\n",
       "      <td>132</td>\n",
       "      <td>132</td>\n",
       "      <td>132</td>\n",
       "      <td>132</td>\n",
       "      <td>132</td>\n",
       "      <td>132</td>\n",
       "      <td>132</td>\n",
       "      <td>...</td>\n",
       "      <td>149</td>\n",
       "      <td>149</td>\n",
       "      <td>149</td>\n",
       "      <td>149</td>\n",
       "      <td>149</td>\n",
       "      <td>149</td>\n",
       "      <td>149</td>\n",
       "      <td>149</td>\n",
       "      <td>149</td>\n",
       "      <td>149</td>\n",
       "    </tr>\n",
       "    <tr>\n",
       "      <th>...</th>\n",
       "      <td>...</td>\n",
       "      <td>...</td>\n",
       "      <td>...</td>\n",
       "      <td>...</td>\n",
       "      <td>...</td>\n",
       "      <td>...</td>\n",
       "      <td>...</td>\n",
       "      <td>...</td>\n",
       "      <td>...</td>\n",
       "      <td>...</td>\n",
       "      <td>...</td>\n",
       "      <td>...</td>\n",
       "      <td>...</td>\n",
       "      <td>...</td>\n",
       "      <td>...</td>\n",
       "      <td>...</td>\n",
       "      <td>...</td>\n",
       "      <td>...</td>\n",
       "      <td>...</td>\n",
       "      <td>...</td>\n",
       "      <td>...</td>\n",
       "    </tr>\n",
       "    <tr>\n",
       "      <th>Backhoe_Mountingis_missing</th>\n",
       "      <td>False</td>\n",
       "      <td>True</td>\n",
       "      <td>False</td>\n",
       "      <td>True</td>\n",
       "      <td>False</td>\n",
       "      <td>False</td>\n",
       "      <td>True</td>\n",
       "      <td>True</td>\n",
       "      <td>False</td>\n",
       "      <td>True</td>\n",
       "      <td>...</td>\n",
       "      <td>True</td>\n",
       "      <td>True</td>\n",
       "      <td>True</td>\n",
       "      <td>True</td>\n",
       "      <td>True</td>\n",
       "      <td>False</td>\n",
       "      <td>True</td>\n",
       "      <td>True</td>\n",
       "      <td>True</td>\n",
       "      <td>True</td>\n",
       "    </tr>\n",
       "    <tr>\n",
       "      <th>Blade_Typeis_missing</th>\n",
       "      <td>False</td>\n",
       "      <td>True</td>\n",
       "      <td>False</td>\n",
       "      <td>True</td>\n",
       "      <td>False</td>\n",
       "      <td>False</td>\n",
       "      <td>True</td>\n",
       "      <td>True</td>\n",
       "      <td>False</td>\n",
       "      <td>True</td>\n",
       "      <td>...</td>\n",
       "      <td>True</td>\n",
       "      <td>True</td>\n",
       "      <td>True</td>\n",
       "      <td>True</td>\n",
       "      <td>True</td>\n",
       "      <td>False</td>\n",
       "      <td>True</td>\n",
       "      <td>True</td>\n",
       "      <td>True</td>\n",
       "      <td>True</td>\n",
       "    </tr>\n",
       "    <tr>\n",
       "      <th>Travel_Controlsis_missing</th>\n",
       "      <td>False</td>\n",
       "      <td>True</td>\n",
       "      <td>False</td>\n",
       "      <td>True</td>\n",
       "      <td>False</td>\n",
       "      <td>False</td>\n",
       "      <td>True</td>\n",
       "      <td>True</td>\n",
       "      <td>False</td>\n",
       "      <td>True</td>\n",
       "      <td>...</td>\n",
       "      <td>True</td>\n",
       "      <td>True</td>\n",
       "      <td>True</td>\n",
       "      <td>True</td>\n",
       "      <td>True</td>\n",
       "      <td>False</td>\n",
       "      <td>True</td>\n",
       "      <td>True</td>\n",
       "      <td>True</td>\n",
       "      <td>True</td>\n",
       "    </tr>\n",
       "    <tr>\n",
       "      <th>Differential_Typeis_missing</th>\n",
       "      <td>True</td>\n",
       "      <td>False</td>\n",
       "      <td>True</td>\n",
       "      <td>False</td>\n",
       "      <td>True</td>\n",
       "      <td>True</td>\n",
       "      <td>False</td>\n",
       "      <td>False</td>\n",
       "      <td>True</td>\n",
       "      <td>True</td>\n",
       "      <td>...</td>\n",
       "      <td>False</td>\n",
       "      <td>True</td>\n",
       "      <td>True</td>\n",
       "      <td>False</td>\n",
       "      <td>True</td>\n",
       "      <td>True</td>\n",
       "      <td>True</td>\n",
       "      <td>True</td>\n",
       "      <td>True</td>\n",
       "      <td>False</td>\n",
       "    </tr>\n",
       "    <tr>\n",
       "      <th>Steering_Controlsis_missing</th>\n",
       "      <td>True</td>\n",
       "      <td>False</td>\n",
       "      <td>True</td>\n",
       "      <td>False</td>\n",
       "      <td>True</td>\n",
       "      <td>True</td>\n",
       "      <td>False</td>\n",
       "      <td>False</td>\n",
       "      <td>True</td>\n",
       "      <td>True</td>\n",
       "      <td>...</td>\n",
       "      <td>False</td>\n",
       "      <td>True</td>\n",
       "      <td>True</td>\n",
       "      <td>False</td>\n",
       "      <td>True</td>\n",
       "      <td>True</td>\n",
       "      <td>True</td>\n",
       "      <td>True</td>\n",
       "      <td>True</td>\n",
       "      <td>False</td>\n",
       "    </tr>\n",
       "  </tbody>\n",
       "</table>\n",
       "<p>101 rows × 412698 columns</p>\n",
       "</div>"
      ],
      "text/plain": [
       "                              0        1        2        3        4        \n",
       "SalesID                      1646770  1821514  1505138  1671174  1329056  \\\n",
       "SalePrice                     9500.0  14000.0  50000.0  16000.0  22000.0   \n",
       "MachineID                    1126363  1194089  1473654  1327630  1336053   \n",
       "ModelID                         8434    10150     4139     8591     4089   \n",
       "datasource                       132      132      132      132      132   \n",
       "...                              ...      ...      ...      ...      ...   \n",
       "Backhoe_Mountingis_missing     False     True    False     True    False   \n",
       "Blade_Typeis_missing           False     True    False     True    False   \n",
       "Travel_Controlsis_missing      False     True    False     True    False   \n",
       "Differential_Typeis_missing     True    False     True    False     True   \n",
       "Steering_Controlsis_missing     True    False     True    False     True   \n",
       "\n",
       "                              5        6        7        8        9       ...   \n",
       "SalesID                      1301884  1379228  1645390  1493279  1449549  ...  \\\n",
       "SalePrice                    23500.0  31000.0  11750.0  63000.0  13000.0  ...   \n",
       "MachineID                    1182999  1082797  1527216  1363756  1289412  ...   \n",
       "ModelID                         4123     7620     8202     2759     3356  ...   \n",
       "datasource                       132      132      132      132      132  ...   \n",
       "...                              ...      ...      ...      ...      ...  ...   \n",
       "Backhoe_Mountingis_missing     False     True     True    False     True  ...   \n",
       "Blade_Typeis_missing           False     True     True    False     True  ...   \n",
       "Travel_Controlsis_missing      False     True     True    False     True  ...   \n",
       "Differential_Typeis_missing     True    False    False     True     True  ...   \n",
       "Steering_Controlsis_missing     True    False    False     True     True  ...   \n",
       "\n",
       "                              412688   412689   412690   412691   412692   \n",
       "SalesID                      6283634  6282337  6311321  6306476  6281219  \\\n",
       "SalePrice                    35000.0   7500.0  13000.0  53000.0  39000.0   \n",
       "MachineID                    1930870  1928688  1823846  1278794  1792049   \n",
       "ModelID                         4701    22072    17311     9114    13976   \n",
       "datasource                       149      149      149      149      149   \n",
       "...                              ...      ...      ...      ...      ...   \n",
       "Backhoe_Mountingis_missing      True     True     True     True     True   \n",
       "Blade_Typeis_missing            True     True     True     True     True   \n",
       "Travel_Controlsis_missing       True     True     True     True     True   \n",
       "Differential_Typeis_missing    False     True     True    False     True   \n",
       "Steering_Controlsis_missing    False     True     True    False     True   \n",
       "\n",
       "                              412693   412694   412695   412696   412697  \n",
       "SalesID                      6302984  6324811  6313029  6266251  6283635  \n",
       "SalePrice                    16000.0   6000.0  16000.0  55000.0  34000.0  \n",
       "MachineID                    1915521  1919104  1918416   509560  1869284  \n",
       "ModelID                         5266    19330    17244     3357     4701  \n",
       "datasource                       149      149      149      149      149  \n",
       "...                              ...      ...      ...      ...      ...  \n",
       "Backhoe_Mountingis_missing     False     True     True     True     True  \n",
       "Blade_Typeis_missing           False     True     True     True     True  \n",
       "Travel_Controlsis_missing      False     True     True     True     True  \n",
       "Differential_Typeis_missing     True     True     True     True    False  \n",
       "Steering_Controlsis_missing     True     True     True     True    False  \n",
       "\n",
       "[101 rows x 412698 columns]"
      ]
     },
     "execution_count": 93,
     "metadata": {},
     "output_type": "execute_result"
    }
   ],
   "source": []
  },
  {
   "cell_type": "code",
   "execution_count": 98,
   "id": "d6bee002",
   "metadata": {},
   "outputs": [
    {
     "name": "stdout",
     "output_type": "stream",
     "text": [
      "CPU times: total: 30min 26s\n",
      "Wall time: 8min 1s\n"
     ]
    },
    {
     "data": {
      "text/html": [
       "<style>#sk-container-id-1 {color: black;background-color: white;}#sk-container-id-1 pre{padding: 0;}#sk-container-id-1 div.sk-toggleable {background-color: white;}#sk-container-id-1 label.sk-toggleable__label {cursor: pointer;display: block;width: 100%;margin-bottom: 0;padding: 0.3em;box-sizing: border-box;text-align: center;}#sk-container-id-1 label.sk-toggleable__label-arrow:before {content: \"▸\";float: left;margin-right: 0.25em;color: #696969;}#sk-container-id-1 label.sk-toggleable__label-arrow:hover:before {color: black;}#sk-container-id-1 div.sk-estimator:hover label.sk-toggleable__label-arrow:before {color: black;}#sk-container-id-1 div.sk-toggleable__content {max-height: 0;max-width: 0;overflow: hidden;text-align: left;background-color: #f0f8ff;}#sk-container-id-1 div.sk-toggleable__content pre {margin: 0.2em;color: black;border-radius: 0.25em;background-color: #f0f8ff;}#sk-container-id-1 input.sk-toggleable__control:checked~div.sk-toggleable__content {max-height: 200px;max-width: 100%;overflow: auto;}#sk-container-id-1 input.sk-toggleable__control:checked~label.sk-toggleable__label-arrow:before {content: \"▾\";}#sk-container-id-1 div.sk-estimator input.sk-toggleable__control:checked~label.sk-toggleable__label {background-color: #d4ebff;}#sk-container-id-1 div.sk-label input.sk-toggleable__control:checked~label.sk-toggleable__label {background-color: #d4ebff;}#sk-container-id-1 input.sk-hidden--visually {border: 0;clip: rect(1px 1px 1px 1px);clip: rect(1px, 1px, 1px, 1px);height: 1px;margin: -1px;overflow: hidden;padding: 0;position: absolute;width: 1px;}#sk-container-id-1 div.sk-estimator {font-family: monospace;background-color: #f0f8ff;border: 1px dotted black;border-radius: 0.25em;box-sizing: border-box;margin-bottom: 0.5em;}#sk-container-id-1 div.sk-estimator:hover {background-color: #d4ebff;}#sk-container-id-1 div.sk-parallel-item::after {content: \"\";width: 100%;border-bottom: 1px solid gray;flex-grow: 1;}#sk-container-id-1 div.sk-label:hover label.sk-toggleable__label {background-color: #d4ebff;}#sk-container-id-1 div.sk-serial::before {content: \"\";position: absolute;border-left: 1px solid gray;box-sizing: border-box;top: 0;bottom: 0;left: 50%;z-index: 0;}#sk-container-id-1 div.sk-serial {display: flex;flex-direction: column;align-items: center;background-color: white;padding-right: 0.2em;padding-left: 0.2em;position: relative;}#sk-container-id-1 div.sk-item {position: relative;z-index: 1;}#sk-container-id-1 div.sk-parallel {display: flex;align-items: stretch;justify-content: center;background-color: white;position: relative;}#sk-container-id-1 div.sk-item::before, #sk-container-id-1 div.sk-parallel-item::before {content: \"\";position: absolute;border-left: 1px solid gray;box-sizing: border-box;top: 0;bottom: 0;left: 50%;z-index: -1;}#sk-container-id-1 div.sk-parallel-item {display: flex;flex-direction: column;z-index: 1;position: relative;background-color: white;}#sk-container-id-1 div.sk-parallel-item:first-child::after {align-self: flex-end;width: 50%;}#sk-container-id-1 div.sk-parallel-item:last-child::after {align-self: flex-start;width: 50%;}#sk-container-id-1 div.sk-parallel-item:only-child::after {width: 0;}#sk-container-id-1 div.sk-dashed-wrapped {border: 1px dashed gray;margin: 0 0.4em 0.5em 0.4em;box-sizing: border-box;padding-bottom: 0.4em;background-color: white;}#sk-container-id-1 div.sk-label label {font-family: monospace;font-weight: bold;display: inline-block;line-height: 1.2em;}#sk-container-id-1 div.sk-label-container {text-align: center;}#sk-container-id-1 div.sk-container {/* jupyter's `normalize.less` sets `[hidden] { display: none; }` but bootstrap.min.css set `[hidden] { display: none !important; }` so we also need the `!important` here to be able to override the default hidden behavior on the sphinx rendered scikit-learn.org. See: https://github.com/scikit-learn/scikit-learn/issues/21755 */display: inline-block !important;position: relative;}#sk-container-id-1 div.sk-text-repr-fallback {display: none;}</style><div id=\"sk-container-id-1\" class=\"sk-top-container\"><div class=\"sk-text-repr-fallback\"><pre>RandomForestRegressor(n_jobs=-1)</pre><b>In a Jupyter environment, please rerun this cell to show the HTML representation or trust the notebook. <br />On GitHub, the HTML representation is unable to render, please try loading this page with nbviewer.org.</b></div><div class=\"sk-container\" hidden><div class=\"sk-item\"><div class=\"sk-estimator sk-toggleable\"><input class=\"sk-toggleable__control sk-hidden--visually\" id=\"sk-estimator-id-1\" type=\"checkbox\" checked><label for=\"sk-estimator-id-1\" class=\"sk-toggleable__label sk-toggleable__label-arrow\">RandomForestRegressor</label><div class=\"sk-toggleable__content\"><pre>RandomForestRegressor(n_jobs=-1)</pre></div></div></div></div></div>"
      ],
      "text/plain": [
       "RandomForestRegressor(n_jobs=-1)"
      ]
     },
     "execution_count": 98,
     "metadata": {},
     "output_type": "execute_result"
    }
   ],
   "source": [
    "%%time\n",
    "np.random.seed(42)\n",
    "model = RandomForestRegressor(n_jobs=-1)\n",
    "model.fit(df.drop('SalePrice',axis=1) , df.SalePrice)"
   ]
  },
  {
   "cell_type": "code",
   "execution_count": 99,
   "id": "6920a3d6",
   "metadata": {},
   "outputs": [],
   "source": [
    "df_test = pd.read_csv('Test.csv')"
   ]
  },
  {
   "cell_type": "code",
   "execution_count": 102,
   "id": "513f024e",
   "metadata": {},
   "outputs": [
    {
     "data": {
      "text/plain": [
       "0.9875575311342472"
      ]
     },
     "execution_count": 102,
     "metadata": {},
     "output_type": "execute_result"
    }
   ],
   "source": [
    " model.score(df.drop('SalePrice',axis=1) , df.SalePrice)"
   ]
  },
  {
   "cell_type": "markdown",
   "id": "58dd7005",
   "metadata": {},
   "source": [
    "**Question**\n",
    "\n",
    "Why is the above model note perfectly reliable\n"
   ]
  },
  {
   "cell_type": "markdown",
   "id": "a63a6fc3",
   "metadata": {},
   "source": [
    "## Splitting data into Train and Valid Sets"
   ]
  },
  {
   "cell_type": "code",
   "execution_count": 152,
   "id": "53333f5c",
   "metadata": {},
   "outputs": [],
   "source": [
    "df_val = df[df.SaleYear == 2012]\n",
    "df_train = df[df.SaleYear != 2012]"
   ]
  },
  {
   "cell_type": "code",
   "execution_count": 153,
   "id": "dd9cb61e",
   "metadata": {},
   "outputs": [
    {
     "data": {
      "text/plain": [
       "(401125, 100)"
      ]
     },
     "execution_count": 153,
     "metadata": {},
     "output_type": "execute_result"
    }
   ],
   "source": [
    "# Splitting into x and y datasets\n",
    "x_train, y_train = df_train.drop('SalePrice',axis=1), df_train.SalePrice\n",
    "x_val, y_val = df_val.drop('SalePrice',axis=1), df_val.SalePrice"
   ]
  },
  {
   "cell_type": "markdown",
   "id": "bc57276a",
   "metadata": {},
   "source": [
    "# Building an evaluation function (RMSLE)"
   ]
  },
  {
   "cell_type": "code",
   "execution_count": 105,
   "id": "0c4b4abc",
   "metadata": {},
   "outputs": [],
   "source": [
    "from sklearn.metrics import mean_absolute_error, mean_squared_log_error "
   ]
  },
  {
   "cell_type": "code",
   "execution_count": 116,
   "id": "9661848a",
   "metadata": {},
   "outputs": [],
   "source": [
    "def rmsle(y_test, y_preds):\n",
    "    \"\"\"\n",
    "    calculate the root mean squared log error for the true and predicted labels.\n",
    "    \"\"\"\n",
    "    return np.sqrt(mean_squared_log_error(y_test, y_preds))\n",
    "\n",
    "def show_scores(model):\n",
    "    train_preds = model.predict(x_train)\n",
    "    val_preds = model.predict(x_val)\n",
    "    scores = {'Training MAE':mean_absolute_error(y_train, train_preds),\n",
    "              'Valid MAE':mean_absolute_error(y_val, val_preds),\n",
    "              'Training RMSLE':rmsle(y_train, train_preds),\n",
    "              'valid RMSLE':rmsle(y_val, val_preds),\n",
    "              'Training R^2':model.score(x_train, y_train),\n",
    "              'Valid R^2':model.score(x_val, y_val)}\n",
    "    return scores"
   ]
  },
  {
   "cell_type": "code",
   "execution_count": 111,
   "id": "2931560d",
   "metadata": {},
   "outputs": [
    {
     "name": "stdout",
     "output_type": "stream",
     "text": [
      "CPU times: total: 1min 3s\n",
      "Wall time: 18.2 s\n"
     ]
    },
    {
     "data": {
      "text/html": [
       "<style>#sk-container-id-5 {color: black;background-color: white;}#sk-container-id-5 pre{padding: 0;}#sk-container-id-5 div.sk-toggleable {background-color: white;}#sk-container-id-5 label.sk-toggleable__label {cursor: pointer;display: block;width: 100%;margin-bottom: 0;padding: 0.3em;box-sizing: border-box;text-align: center;}#sk-container-id-5 label.sk-toggleable__label-arrow:before {content: \"▸\";float: left;margin-right: 0.25em;color: #696969;}#sk-container-id-5 label.sk-toggleable__label-arrow:hover:before {color: black;}#sk-container-id-5 div.sk-estimator:hover label.sk-toggleable__label-arrow:before {color: black;}#sk-container-id-5 div.sk-toggleable__content {max-height: 0;max-width: 0;overflow: hidden;text-align: left;background-color: #f0f8ff;}#sk-container-id-5 div.sk-toggleable__content pre {margin: 0.2em;color: black;border-radius: 0.25em;background-color: #f0f8ff;}#sk-container-id-5 input.sk-toggleable__control:checked~div.sk-toggleable__content {max-height: 200px;max-width: 100%;overflow: auto;}#sk-container-id-5 input.sk-toggleable__control:checked~label.sk-toggleable__label-arrow:before {content: \"▾\";}#sk-container-id-5 div.sk-estimator input.sk-toggleable__control:checked~label.sk-toggleable__label {background-color: #d4ebff;}#sk-container-id-5 div.sk-label input.sk-toggleable__control:checked~label.sk-toggleable__label {background-color: #d4ebff;}#sk-container-id-5 input.sk-hidden--visually {border: 0;clip: rect(1px 1px 1px 1px);clip: rect(1px, 1px, 1px, 1px);height: 1px;margin: -1px;overflow: hidden;padding: 0;position: absolute;width: 1px;}#sk-container-id-5 div.sk-estimator {font-family: monospace;background-color: #f0f8ff;border: 1px dotted black;border-radius: 0.25em;box-sizing: border-box;margin-bottom: 0.5em;}#sk-container-id-5 div.sk-estimator:hover {background-color: #d4ebff;}#sk-container-id-5 div.sk-parallel-item::after {content: \"\";width: 100%;border-bottom: 1px solid gray;flex-grow: 1;}#sk-container-id-5 div.sk-label:hover label.sk-toggleable__label {background-color: #d4ebff;}#sk-container-id-5 div.sk-serial::before {content: \"\";position: absolute;border-left: 1px solid gray;box-sizing: border-box;top: 0;bottom: 0;left: 50%;z-index: 0;}#sk-container-id-5 div.sk-serial {display: flex;flex-direction: column;align-items: center;background-color: white;padding-right: 0.2em;padding-left: 0.2em;position: relative;}#sk-container-id-5 div.sk-item {position: relative;z-index: 1;}#sk-container-id-5 div.sk-parallel {display: flex;align-items: stretch;justify-content: center;background-color: white;position: relative;}#sk-container-id-5 div.sk-item::before, #sk-container-id-5 div.sk-parallel-item::before {content: \"\";position: absolute;border-left: 1px solid gray;box-sizing: border-box;top: 0;bottom: 0;left: 50%;z-index: -1;}#sk-container-id-5 div.sk-parallel-item {display: flex;flex-direction: column;z-index: 1;position: relative;background-color: white;}#sk-container-id-5 div.sk-parallel-item:first-child::after {align-self: flex-end;width: 50%;}#sk-container-id-5 div.sk-parallel-item:last-child::after {align-self: flex-start;width: 50%;}#sk-container-id-5 div.sk-parallel-item:only-child::after {width: 0;}#sk-container-id-5 div.sk-dashed-wrapped {border: 1px dashed gray;margin: 0 0.4em 0.5em 0.4em;box-sizing: border-box;padding-bottom: 0.4em;background-color: white;}#sk-container-id-5 div.sk-label label {font-family: monospace;font-weight: bold;display: inline-block;line-height: 1.2em;}#sk-container-id-5 div.sk-label-container {text-align: center;}#sk-container-id-5 div.sk-container {/* jupyter's `normalize.less` sets `[hidden] { display: none; }` but bootstrap.min.css set `[hidden] { display: none !important; }` so we also need the `!important` here to be able to override the default hidden behavior on the sphinx rendered scikit-learn.org. See: https://github.com/scikit-learn/scikit-learn/issues/21755 */display: inline-block !important;position: relative;}#sk-container-id-5 div.sk-text-repr-fallback {display: none;}</style><div id=\"sk-container-id-5\" class=\"sk-top-container\"><div class=\"sk-text-repr-fallback\"><pre>RandomForestRegressor(max_samples=10000, n_jobs=-1, random_state=43)</pre><b>In a Jupyter environment, please rerun this cell to show the HTML representation or trust the notebook. <br />On GitHub, the HTML representation is unable to render, please try loading this page with nbviewer.org.</b></div><div class=\"sk-container\" hidden><div class=\"sk-item\"><div class=\"sk-estimator sk-toggleable\"><input class=\"sk-toggleable__control sk-hidden--visually\" id=\"sk-estimator-id-5\" type=\"checkbox\" checked><label for=\"sk-estimator-id-5\" class=\"sk-toggleable__label sk-toggleable__label-arrow\">RandomForestRegressor</label><div class=\"sk-toggleable__content\"><pre>RandomForestRegressor(max_samples=10000, n_jobs=-1, random_state=43)</pre></div></div></div></div></div>"
      ],
      "text/plain": [
       "RandomForestRegressor(max_samples=10000, n_jobs=-1, random_state=43)"
      ]
     },
     "execution_count": 111,
     "metadata": {},
     "output_type": "execute_result"
    }
   ],
   "source": [
    "%%time\n",
    "# Change max_samples value\n",
    "model = RandomForestRegressor(n_jobs=-1, n_estimators=100, random_state=43, max_samples=10000)\n",
    "model.fit(x_train, y_train)"
   ]
  },
  {
   "cell_type": "code",
   "execution_count": 117,
   "id": "0349d501",
   "metadata": {},
   "outputs": [
    {
     "data": {
      "text/plain": [
       "{'Training MAE': 5565.278293624181,\n",
       " 'Valid MAE': 7128.0015536161745,\n",
       " 'Training RMSLE': 0.2575462536560548,\n",
       " 'valid RMSLE': 0.2921282413071744,\n",
       " 'Training R^2': 0.8602397829986685,\n",
       " 'Valid R^2': 0.8351109289285606}"
      ]
     },
     "execution_count": 117,
     "metadata": {},
     "output_type": "execute_result"
    }
   ],
   "source": [
    "show_scores(model)"
   ]
  },
  {
   "cell_type": "code",
   "execution_count": 122,
   "id": "0d805abe",
   "metadata": {
    "scrolled": true
   },
   "outputs": [
    {
     "name": "stderr",
     "output_type": "stream",
     "text": [
      "C:\\Users\\91707\\AppData\\Local\\Packages\\PythonSoftwareFoundation.Python.3.11_qbz5n2kfra8p0\\LocalCache\\local-packages\\Python311\\site-packages\\sklearn\\ensemble\\_forest.py:413: FutureWarning: `max_features='auto'` has been deprecated in 1.1 and will be removed in 1.3. To keep the past behaviour, explicitly set `max_features=1.0` or remove this parameter as it is also the default value for RandomForestRegressors and ExtraTreesRegressors.\n",
      "  warn(\n",
      "C:\\Users\\91707\\AppData\\Local\\Packages\\PythonSoftwareFoundation.Python.3.11_qbz5n2kfra8p0\\LocalCache\\local-packages\\Python311\\site-packages\\sklearn\\ensemble\\_forest.py:413: FutureWarning: `max_features='auto'` has been deprecated in 1.1 and will be removed in 1.3. To keep the past behaviour, explicitly set `max_features=1.0` or remove this parameter as it is also the default value for RandomForestRegressors and ExtraTreesRegressors.\n",
      "  warn(\n",
      "C:\\Users\\91707\\AppData\\Local\\Packages\\PythonSoftwareFoundation.Python.3.11_qbz5n2kfra8p0\\LocalCache\\local-packages\\Python311\\site-packages\\sklearn\\ensemble\\_forest.py:413: FutureWarning: `max_features='auto'` has been deprecated in 1.1 and will be removed in 1.3. To keep the past behaviour, explicitly set `max_features=1.0` or remove this parameter as it is also the default value for RandomForestRegressors and ExtraTreesRegressors.\n",
      "  warn(\n",
      "C:\\Users\\91707\\AppData\\Local\\Packages\\PythonSoftwareFoundation.Python.3.11_qbz5n2kfra8p0\\LocalCache\\local-packages\\Python311\\site-packages\\sklearn\\ensemble\\_forest.py:413: FutureWarning: `max_features='auto'` has been deprecated in 1.1 and will be removed in 1.3. To keep the past behaviour, explicitly set `max_features=1.0` or remove this parameter as it is also the default value for RandomForestRegressors and ExtraTreesRegressors.\n",
      "  warn(\n",
      "C:\\Users\\91707\\AppData\\Local\\Packages\\PythonSoftwareFoundation.Python.3.11_qbz5n2kfra8p0\\LocalCache\\local-packages\\Python311\\site-packages\\sklearn\\ensemble\\_forest.py:413: FutureWarning: `max_features='auto'` has been deprecated in 1.1 and will be removed in 1.3. To keep the past behaviour, explicitly set `max_features=1.0` or remove this parameter as it is also the default value for RandomForestRegressors and ExtraTreesRegressors.\n",
      "  warn(\n"
     ]
    },
    {
     "name": "stdout",
     "output_type": "stream",
     "text": [
      "CPU times: total: 1min 5s\n",
      "Wall time: 3min 28s\n"
     ]
    },
    {
     "data": {
      "text/html": [
       "<style>#sk-container-id-6 {color: black;background-color: white;}#sk-container-id-6 pre{padding: 0;}#sk-container-id-6 div.sk-toggleable {background-color: white;}#sk-container-id-6 label.sk-toggleable__label {cursor: pointer;display: block;width: 100%;margin-bottom: 0;padding: 0.3em;box-sizing: border-box;text-align: center;}#sk-container-id-6 label.sk-toggleable__label-arrow:before {content: \"▸\";float: left;margin-right: 0.25em;color: #696969;}#sk-container-id-6 label.sk-toggleable__label-arrow:hover:before {color: black;}#sk-container-id-6 div.sk-estimator:hover label.sk-toggleable__label-arrow:before {color: black;}#sk-container-id-6 div.sk-toggleable__content {max-height: 0;max-width: 0;overflow: hidden;text-align: left;background-color: #f0f8ff;}#sk-container-id-6 div.sk-toggleable__content pre {margin: 0.2em;color: black;border-radius: 0.25em;background-color: #f0f8ff;}#sk-container-id-6 input.sk-toggleable__control:checked~div.sk-toggleable__content {max-height: 200px;max-width: 100%;overflow: auto;}#sk-container-id-6 input.sk-toggleable__control:checked~label.sk-toggleable__label-arrow:before {content: \"▾\";}#sk-container-id-6 div.sk-estimator input.sk-toggleable__control:checked~label.sk-toggleable__label {background-color: #d4ebff;}#sk-container-id-6 div.sk-label input.sk-toggleable__control:checked~label.sk-toggleable__label {background-color: #d4ebff;}#sk-container-id-6 input.sk-hidden--visually {border: 0;clip: rect(1px 1px 1px 1px);clip: rect(1px, 1px, 1px, 1px);height: 1px;margin: -1px;overflow: hidden;padding: 0;position: absolute;width: 1px;}#sk-container-id-6 div.sk-estimator {font-family: monospace;background-color: #f0f8ff;border: 1px dotted black;border-radius: 0.25em;box-sizing: border-box;margin-bottom: 0.5em;}#sk-container-id-6 div.sk-estimator:hover {background-color: #d4ebff;}#sk-container-id-6 div.sk-parallel-item::after {content: \"\";width: 100%;border-bottom: 1px solid gray;flex-grow: 1;}#sk-container-id-6 div.sk-label:hover label.sk-toggleable__label {background-color: #d4ebff;}#sk-container-id-6 div.sk-serial::before {content: \"\";position: absolute;border-left: 1px solid gray;box-sizing: border-box;top: 0;bottom: 0;left: 50%;z-index: 0;}#sk-container-id-6 div.sk-serial {display: flex;flex-direction: column;align-items: center;background-color: white;padding-right: 0.2em;padding-left: 0.2em;position: relative;}#sk-container-id-6 div.sk-item {position: relative;z-index: 1;}#sk-container-id-6 div.sk-parallel {display: flex;align-items: stretch;justify-content: center;background-color: white;position: relative;}#sk-container-id-6 div.sk-item::before, #sk-container-id-6 div.sk-parallel-item::before {content: \"\";position: absolute;border-left: 1px solid gray;box-sizing: border-box;top: 0;bottom: 0;left: 50%;z-index: -1;}#sk-container-id-6 div.sk-parallel-item {display: flex;flex-direction: column;z-index: 1;position: relative;background-color: white;}#sk-container-id-6 div.sk-parallel-item:first-child::after {align-self: flex-end;width: 50%;}#sk-container-id-6 div.sk-parallel-item:last-child::after {align-self: flex-start;width: 50%;}#sk-container-id-6 div.sk-parallel-item:only-child::after {width: 0;}#sk-container-id-6 div.sk-dashed-wrapped {border: 1px dashed gray;margin: 0 0.4em 0.5em 0.4em;box-sizing: border-box;padding-bottom: 0.4em;background-color: white;}#sk-container-id-6 div.sk-label label {font-family: monospace;font-weight: bold;display: inline-block;line-height: 1.2em;}#sk-container-id-6 div.sk-label-container {text-align: center;}#sk-container-id-6 div.sk-container {/* jupyter's `normalize.less` sets `[hidden] { display: none; }` but bootstrap.min.css set `[hidden] { display: none !important; }` so we also need the `!important` here to be able to override the default hidden behavior on the sphinx rendered scikit-learn.org. See: https://github.com/scikit-learn/scikit-learn/issues/21755 */display: inline-block !important;position: relative;}#sk-container-id-6 div.sk-text-repr-fallback {display: none;}</style><div id=\"sk-container-id-6\" class=\"sk-top-container\"><div class=\"sk-text-repr-fallback\"><pre>RandomizedSearchCV(cv=5,\n",
       "                   estimator=RandomForestRegressor(n_jobs=-1, random_state=42),\n",
       "                   n_iter=3,\n",
       "                   param_distributions={&#x27;max_depth&#x27;: [None, 3, 5, 10],\n",
       "                                        &#x27;max_features&#x27;: [0.5, 1, &#x27;sqrt&#x27;,\n",
       "                                                         &#x27;auto&#x27;],\n",
       "                                        &#x27;max_samples&#x27;: [20000],\n",
       "                                        &#x27;min_samples_leaf&#x27;: array([ 1,  3,  5,  7,  9, 11, 13, 15, 17, 19]),\n",
       "                                        &#x27;min_samples_split&#x27;: array([ 2,  4,  6,  8, 10, 12, 14, 16, 18]),\n",
       "                                        &#x27;n_estimators&#x27;: array([10, 20, 30, 40, 50, 60, 70, 80, 90])},\n",
       "                   verbose=False)</pre><b>In a Jupyter environment, please rerun this cell to show the HTML representation or trust the notebook. <br />On GitHub, the HTML representation is unable to render, please try loading this page with nbviewer.org.</b></div><div class=\"sk-container\" hidden><div class=\"sk-item sk-dashed-wrapped\"><div class=\"sk-label-container\"><div class=\"sk-label sk-toggleable\"><input class=\"sk-toggleable__control sk-hidden--visually\" id=\"sk-estimator-id-6\" type=\"checkbox\" ><label for=\"sk-estimator-id-6\" class=\"sk-toggleable__label sk-toggleable__label-arrow\">RandomizedSearchCV</label><div class=\"sk-toggleable__content\"><pre>RandomizedSearchCV(cv=5,\n",
       "                   estimator=RandomForestRegressor(n_jobs=-1, random_state=42),\n",
       "                   n_iter=3,\n",
       "                   param_distributions={&#x27;max_depth&#x27;: [None, 3, 5, 10],\n",
       "                                        &#x27;max_features&#x27;: [0.5, 1, &#x27;sqrt&#x27;,\n",
       "                                                         &#x27;auto&#x27;],\n",
       "                                        &#x27;max_samples&#x27;: [20000],\n",
       "                                        &#x27;min_samples_leaf&#x27;: array([ 1,  3,  5,  7,  9, 11, 13, 15, 17, 19]),\n",
       "                                        &#x27;min_samples_split&#x27;: array([ 2,  4,  6,  8, 10, 12, 14, 16, 18]),\n",
       "                                        &#x27;n_estimators&#x27;: array([10, 20, 30, 40, 50, 60, 70, 80, 90])},\n",
       "                   verbose=False)</pre></div></div></div><div class=\"sk-parallel\"><div class=\"sk-parallel-item\"><div class=\"sk-item\"><div class=\"sk-label-container\"><div class=\"sk-label sk-toggleable\"><input class=\"sk-toggleable__control sk-hidden--visually\" id=\"sk-estimator-id-7\" type=\"checkbox\" ><label for=\"sk-estimator-id-7\" class=\"sk-toggleable__label sk-toggleable__label-arrow\">estimator: RandomForestRegressor</label><div class=\"sk-toggleable__content\"><pre>RandomForestRegressor(n_jobs=-1, random_state=42)</pre></div></div></div><div class=\"sk-serial\"><div class=\"sk-item\"><div class=\"sk-estimator sk-toggleable\"><input class=\"sk-toggleable__control sk-hidden--visually\" id=\"sk-estimator-id-8\" type=\"checkbox\" ><label for=\"sk-estimator-id-8\" class=\"sk-toggleable__label sk-toggleable__label-arrow\">RandomForestRegressor</label><div class=\"sk-toggleable__content\"><pre>RandomForestRegressor(n_jobs=-1, random_state=42)</pre></div></div></div></div></div></div></div></div></div></div>"
      ],
      "text/plain": [
       "RandomizedSearchCV(cv=5,\n",
       "                   estimator=RandomForestRegressor(n_jobs=-1, random_state=42),\n",
       "                   n_iter=3,\n",
       "                   param_distributions={'max_depth': [None, 3, 5, 10],\n",
       "                                        'max_features': [0.5, 1, 'sqrt',\n",
       "                                                         'auto'],\n",
       "                                        'max_samples': [20000],\n",
       "                                        'min_samples_leaf': array([ 1,  3,  5,  7,  9, 11, 13, 15, 17, 19]),\n",
       "                                        'min_samples_split': array([ 2,  4,  6,  8, 10, 12, 14, 16, 18]),\n",
       "                                        'n_estimators': array([10, 20, 30, 40, 50, 60, 70, 80, 90])},\n",
       "                   verbose=False)"
      ]
     },
     "execution_count": 122,
     "metadata": {},
     "output_type": "execute_result"
    }
   ],
   "source": [
    "%%time\n",
    "# Hyperparameter tuning with RandomizedSearchCV\n",
    "from sklearn.model_selection import RandomizedSearchCV\n",
    "\n",
    "grid = {'n_estimators':np.arange(10,100,10),\n",
    "       'max_depth':[None, 3, 5, 10],\n",
    "       'min_samples_split':np.arange(2,20,2),\n",
    "       'min_samples_leaf':np.arange(1,20,2),\n",
    "       'max_features':[0.5,1,'sqrt','auto'],\n",
    "       'max_samples':[20000]}\n",
    "\n",
    "model = RandomForestRegressor(n_jobs=-1, random_state=42)\n",
    "rs_model = RandomizedSearchCV(model,\n",
    "                             param_distributions=grid,\n",
    "                             n_iter=3,\n",
    "                             cv=5,\n",
    "                             verbose=True)\n",
    "rs_model.fit(x_train, y_train)"
   ]
  },
  {
   "cell_type": "code",
   "execution_count": 123,
   "id": "919a6b4f",
   "metadata": {},
   "outputs": [
    {
     "data": {
      "text/plain": [
       "{'n_estimators': 90,\n",
       " 'min_samples_split': 18,\n",
       " 'min_samples_leaf': 3,\n",
       " 'max_samples': 20000,\n",
       " 'max_features': 0.5,\n",
       " 'max_depth': None}"
      ]
     },
     "execution_count": 123,
     "metadata": {},
     "output_type": "execute_result"
    }
   ],
   "source": [
    "rs_model.best_params_"
   ]
  },
  {
   "cell_type": "code",
   "execution_count": 124,
   "id": "619aa9a3",
   "metadata": {},
   "outputs": [
    {
     "data": {
      "text/plain": [
       "{'Training MAE': 5599.473302847689,\n",
       " 'Valid MAE': 6964.603237964639,\n",
       " 'Training RMSLE': 0.25675736588233816,\n",
       " 'valid RMSLE': 0.2835943436756889,\n",
       " 'Training R^2': 0.8582976797312081,\n",
       " 'Valid R^2': 0.8398448757904613}"
      ]
     },
     "execution_count": 124,
     "metadata": {},
     "output_type": "execute_result"
    }
   ],
   "source": [
    "show_scores(rs_model)"
   ]
  },
  {
   "cell_type": "markdown",
   "id": "5a82272f",
   "metadata": {},
   "source": [
    "# Training the model with best hyperparameters\n",
    "These were found for n_iter = 100"
   ]
  },
  {
   "cell_type": "code",
   "execution_count": 126,
   "id": "88ca7ea0",
   "metadata": {},
   "outputs": [
    {
     "name": "stdout",
     "output_type": "stream",
     "text": [
      "CPU times: total: 4min 53s\n",
      "Wall time: 1min 19s\n"
     ]
    },
    {
     "data": {
      "text/html": [
       "<style>#sk-container-id-7 {color: black;background-color: white;}#sk-container-id-7 pre{padding: 0;}#sk-container-id-7 div.sk-toggleable {background-color: white;}#sk-container-id-7 label.sk-toggleable__label {cursor: pointer;display: block;width: 100%;margin-bottom: 0;padding: 0.3em;box-sizing: border-box;text-align: center;}#sk-container-id-7 label.sk-toggleable__label-arrow:before {content: \"▸\";float: left;margin-right: 0.25em;color: #696969;}#sk-container-id-7 label.sk-toggleable__label-arrow:hover:before {color: black;}#sk-container-id-7 div.sk-estimator:hover label.sk-toggleable__label-arrow:before {color: black;}#sk-container-id-7 div.sk-toggleable__content {max-height: 0;max-width: 0;overflow: hidden;text-align: left;background-color: #f0f8ff;}#sk-container-id-7 div.sk-toggleable__content pre {margin: 0.2em;color: black;border-radius: 0.25em;background-color: #f0f8ff;}#sk-container-id-7 input.sk-toggleable__control:checked~div.sk-toggleable__content {max-height: 200px;max-width: 100%;overflow: auto;}#sk-container-id-7 input.sk-toggleable__control:checked~label.sk-toggleable__label-arrow:before {content: \"▾\";}#sk-container-id-7 div.sk-estimator input.sk-toggleable__control:checked~label.sk-toggleable__label {background-color: #d4ebff;}#sk-container-id-7 div.sk-label input.sk-toggleable__control:checked~label.sk-toggleable__label {background-color: #d4ebff;}#sk-container-id-7 input.sk-hidden--visually {border: 0;clip: rect(1px 1px 1px 1px);clip: rect(1px, 1px, 1px, 1px);height: 1px;margin: -1px;overflow: hidden;padding: 0;position: absolute;width: 1px;}#sk-container-id-7 div.sk-estimator {font-family: monospace;background-color: #f0f8ff;border: 1px dotted black;border-radius: 0.25em;box-sizing: border-box;margin-bottom: 0.5em;}#sk-container-id-7 div.sk-estimator:hover {background-color: #d4ebff;}#sk-container-id-7 div.sk-parallel-item::after {content: \"\";width: 100%;border-bottom: 1px solid gray;flex-grow: 1;}#sk-container-id-7 div.sk-label:hover label.sk-toggleable__label {background-color: #d4ebff;}#sk-container-id-7 div.sk-serial::before {content: \"\";position: absolute;border-left: 1px solid gray;box-sizing: border-box;top: 0;bottom: 0;left: 50%;z-index: 0;}#sk-container-id-7 div.sk-serial {display: flex;flex-direction: column;align-items: center;background-color: white;padding-right: 0.2em;padding-left: 0.2em;position: relative;}#sk-container-id-7 div.sk-item {position: relative;z-index: 1;}#sk-container-id-7 div.sk-parallel {display: flex;align-items: stretch;justify-content: center;background-color: white;position: relative;}#sk-container-id-7 div.sk-item::before, #sk-container-id-7 div.sk-parallel-item::before {content: \"\";position: absolute;border-left: 1px solid gray;box-sizing: border-box;top: 0;bottom: 0;left: 50%;z-index: -1;}#sk-container-id-7 div.sk-parallel-item {display: flex;flex-direction: column;z-index: 1;position: relative;background-color: white;}#sk-container-id-7 div.sk-parallel-item:first-child::after {align-self: flex-end;width: 50%;}#sk-container-id-7 div.sk-parallel-item:last-child::after {align-self: flex-start;width: 50%;}#sk-container-id-7 div.sk-parallel-item:only-child::after {width: 0;}#sk-container-id-7 div.sk-dashed-wrapped {border: 1px dashed gray;margin: 0 0.4em 0.5em 0.4em;box-sizing: border-box;padding-bottom: 0.4em;background-color: white;}#sk-container-id-7 div.sk-label label {font-family: monospace;font-weight: bold;display: inline-block;line-height: 1.2em;}#sk-container-id-7 div.sk-label-container {text-align: center;}#sk-container-id-7 div.sk-container {/* jupyter's `normalize.less` sets `[hidden] { display: none; }` but bootstrap.min.css set `[hidden] { display: none !important; }` so we also need the `!important` here to be able to override the default hidden behavior on the sphinx rendered scikit-learn.org. See: https://github.com/scikit-learn/scikit-learn/issues/21755 */display: inline-block !important;position: relative;}#sk-container-id-7 div.sk-text-repr-fallback {display: none;}</style><div id=\"sk-container-id-7\" class=\"sk-top-container\"><div class=\"sk-text-repr-fallback\"><pre>RandomForestRegressor(max_features=0.5, min_samples_split=14, n_estimators=40,\n",
       "                      n_jobs=-1, random_state=42)</pre><b>In a Jupyter environment, please rerun this cell to show the HTML representation or trust the notebook. <br />On GitHub, the HTML representation is unable to render, please try loading this page with nbviewer.org.</b></div><div class=\"sk-container\" hidden><div class=\"sk-item\"><div class=\"sk-estimator sk-toggleable\"><input class=\"sk-toggleable__control sk-hidden--visually\" id=\"sk-estimator-id-9\" type=\"checkbox\" checked><label for=\"sk-estimator-id-9\" class=\"sk-toggleable__label sk-toggleable__label-arrow\">RandomForestRegressor</label><div class=\"sk-toggleable__content\"><pre>RandomForestRegressor(max_features=0.5, min_samples_split=14, n_estimators=40,\n",
       "                      n_jobs=-1, random_state=42)</pre></div></div></div></div></div>"
      ],
      "text/plain": [
       "RandomForestRegressor(max_features=0.5, min_samples_split=14, n_estimators=40,\n",
       "                      n_jobs=-1, random_state=42)"
      ]
     },
     "execution_count": 126,
     "metadata": {},
     "output_type": "execute_result"
    }
   ],
   "source": [
    "%%time\n",
    "ideal_model = RandomForestRegressor(n_estimators=40,\n",
    "                                   min_samples_leaf=1,\n",
    "                                   min_samples_split=14,\n",
    "                                   max_features=0.5,\n",
    "                                   n_jobs=-1,\n",
    "                                   max_samples=None,random_state=42)\n",
    "ideal_model.fit(x_train, y_train)"
   ]
  },
  {
   "cell_type": "code",
   "execution_count": 127,
   "id": "67208c77",
   "metadata": {},
   "outputs": [
    {
     "data": {
      "text/plain": [
       "{'Training MAE': 2957.709410683029,\n",
       " 'Valid MAE': 5952.197444284608,\n",
       " 'Training RMSLE': 0.14472725726514718,\n",
       " 'valid RMSLE': 0.24732082136025826,\n",
       " 'Training R^2': 0.9587007135389213,\n",
       " 'Valid R^2': 0.8827621254674539}"
      ]
     },
     "execution_count": 127,
     "metadata": {},
     "output_type": "execute_result"
    }
   ],
   "source": [
    "show_scores(ideal_model)"
   ]
  },
  {
   "cell_type": "code",
   "execution_count": 135,
   "id": "769e3272",
   "metadata": {},
   "outputs": [
    {
     "name": "stdout",
     "output_type": "stream",
     "text": [
      "CPU times: total: 109 ms\n",
      "Wall time: 179 ms\n"
     ]
    },
    {
     "data": {
      "text/plain": [
       "dtype('<M8[ns]')"
      ]
     },
     "execution_count": 135,
     "metadata": {},
     "output_type": "execute_result"
    }
   ],
   "source": [
    "%%time\n",
    "df_test = pd.read_csv('Test.csv', low_memory=False, parse_dates=['saledate'])\n",
    "df_test.saledate.dtype"
   ]
  },
  {
   "cell_type": "code",
   "execution_count": 137,
   "id": "05ff87fa",
   "metadata": {},
   "outputs": [],
   "source": [
    "# Preprocessing the data (Making the test data into the same way as the trained data.)\n",
    "df_test['SaleYear'] = df_test.saledate.dt.year\n",
    "df_test['SaleMonth'] = df_test.saledate.dt.month\n",
    "df_test['SaleDay'] = df_test.saledate.dt.day\n",
    "df_test['SaleDayOfWeek'] = df_test.saledate.dt.day_of_week\n",
    "df_test['SaleDayOfYear'] = df_test.saledate.dt.day_of_year"
   ]
  },
  {
   "cell_type": "code",
   "execution_count": 140,
   "id": "c7d63fa9",
   "metadata": {},
   "outputs": [],
   "source": [
    "for label, content in df_test.items():\n",
    "    if pd.api.types.is_object_dtype(content):\n",
    "        df_test[label] = content.astype('category').cat.as_ordered()"
   ]
  },
  {
   "cell_type": "markdown",
   "id": "500c188b",
   "metadata": {},
   "source": [
    "# Filling numerical missing values"
   ]
  },
  {
   "cell_type": "code",
   "execution_count": 142,
   "id": "3f7a0cae",
   "metadata": {},
   "outputs": [
    {
     "name": "stdout",
     "output_type": "stream",
     "text": [
      "MachineHoursCurrentMeter\n"
     ]
    }
   ],
   "source": [
    "for label, content in df_test.items():\n",
    "    if pd.api.types.is_numeric_dtype(content):\n",
    "        if df_test[label].isna().sum():\n",
    "            print(label)"
   ]
  },
  {
   "cell_type": "code",
   "execution_count": 143,
   "id": "e6d8f277",
   "metadata": {},
   "outputs": [
    {
     "data": {
      "text/plain": [
       "SalesID                         0\n",
       "MachineID                       0\n",
       "ModelID                         0\n",
       "datasource                      0\n",
       "auctioneerID                    0\n",
       "YearMade                        0\n",
       "MachineHoursCurrentMeter    10328\n",
       "UsageBand                   10623\n",
       "saledate                        0\n",
       "fiModelDesc                     0\n",
       "fiBaseModel                     0\n",
       "fiSecondaryDesc              3975\n",
       "fiModelSeries               10451\n",
       "fiModelDescriptor            9433\n",
       "ProductSize                  6409\n",
       "fiProductClassDesc              0\n",
       "state                           0\n",
       "ProductGroup                    0\n",
       "ProductGroupDesc                0\n",
       "Drive_System                 9698\n",
       "Enclosure                       2\n",
       "Forks                        6149\n",
       "Pad_Type                    10349\n",
       "Ride_Control                 8216\n",
       "Stick                       10349\n",
       "Transmission                 7639\n",
       "Turbocharged                10349\n",
       "Blade_Extension             11806\n",
       "Blade_Width                 11806\n",
       "Enclosure_Type              11806\n",
       "Engine_Horsepower           11806\n",
       "Hydraulics                   2142\n",
       "Pushblock                   11806\n",
       "Ripper                       9753\n",
       "Scarifier                   11806\n",
       "Tip_Control                 11806\n",
       "Tire_Size                    9679\n",
       "Coupler                      4856\n",
       "Coupler_System              10391\n",
       "Grouser_Tracks              10391\n",
       "Hydraulics_Flow             10391\n",
       "Track_Type                   9063\n",
       "Undercarriage_Pad_Width      9059\n",
       "Stick_Length                 9063\n",
       "Thumb                        9062\n",
       "Pattern_Changer              9063\n",
       "Grouser_Type                 9063\n",
       "Backhoe_Mounting            10406\n",
       "Blade_Type                  10399\n",
       "Travel_Controls             10399\n",
       "Differential_Type           10328\n",
       "Steering_Controls           10328\n",
       "SaleYear                        0\n",
       "SaleMonth                       0\n",
       "SaleDay                         0\n",
       "SaleDayOfWeek                   0\n",
       "SaleDayOfYear                   0\n",
       "dtype: int64"
      ]
     },
     "execution_count": 143,
     "metadata": {},
     "output_type": "execute_result"
    }
   ],
   "source": [
    "df_test.isna().sum()"
   ]
  },
  {
   "cell_type": "code",
   "execution_count": 145,
   "id": "76756cf3",
   "metadata": {},
   "outputs": [
    {
     "data": {
      "text/plain": [
       "(0, 10328)"
      ]
     },
     "execution_count": 145,
     "metadata": {},
     "output_type": "execute_result"
    }
   ],
   "source": [
    "df_test.auctioneerID.isna().sum(), df_test.MachineHoursCurrentMeter.isna().sum()"
   ]
  },
  {
   "cell_type": "code",
   "execution_count": 146,
   "id": "3a24443d",
   "metadata": {},
   "outputs": [],
   "source": [
    "df_test.MachineHoursCurrentMeter.fillna(round(df_test.MachineHoursCurrentMeter.median()),inplace=True)"
   ]
  },
  {
   "cell_type": "markdown",
   "id": "c1e49cdf",
   "metadata": {},
   "source": [
    "# Filling values in categorical columns"
   ]
  },
  {
   "cell_type": "code",
   "execution_count": 147,
   "id": "e899e7b4",
   "metadata": {},
   "outputs": [],
   "source": [
    "for label, content in df_test.items():\n",
    "    if not pd.api.types.is_numeric_dtype(content):\n",
    "        df_test[label+'is_missing'] = pd.isnull(content)\n",
    "        df_test[label] = pd.Categorical(content).codes + 1"
   ]
  },
  {
   "cell_type": "markdown",
   "id": "1d0f8613",
   "metadata": {},
   "source": [
    "# It's time to make predictions on the test data"
   ]
  },
  {
   "cell_type": "code",
   "execution_count": 150,
   "id": "6b3a35b7",
   "metadata": {},
   "outputs": [
    {
     "data": {
      "text/plain": [
       "((401125, 100), (12457, 102))"
      ]
     },
     "execution_count": 150,
     "metadata": {},
     "output_type": "execute_result"
    }
   ],
   "source": [
    "x_train.shape, df_test.shape"
   ]
  },
  {
   "cell_type": "code",
   "execution_count": 169,
   "id": "b4c88b20",
   "metadata": {},
   "outputs": [
    {
     "data": {
      "text/plain": [
       "['SalesID',\n",
       " 'MachineID',\n",
       " 'ModelID',\n",
       " 'datasource',\n",
       " 'auctioneerID',\n",
       " 'YearMade',\n",
       " 'MachineHoursCurrentMeter',\n",
       " 'UsageBand',\n",
       " 'saledate------------------found :)',\n",
       " 'fiModelDesc',\n",
       " 'fiBaseModel',\n",
       " 'fiSecondaryDesc',\n",
       " 'fiModelSeries',\n",
       " 'fiModelDescriptor',\n",
       " 'ProductSize',\n",
       " 'fiProductClassDesc',\n",
       " 'state',\n",
       " 'ProductGroup',\n",
       " 'ProductGroupDesc',\n",
       " 'Drive_System',\n",
       " 'Enclosure',\n",
       " 'Forks',\n",
       " 'Pad_Type',\n",
       " 'Ride_Control',\n",
       " 'Stick',\n",
       " 'Transmission',\n",
       " 'Turbocharged',\n",
       " 'Blade_Extension',\n",
       " 'Blade_Width',\n",
       " 'Enclosure_Type',\n",
       " 'Engine_Horsepower',\n",
       " 'Hydraulics',\n",
       " 'Pushblock',\n",
       " 'Ripper',\n",
       " 'Scarifier',\n",
       " 'Tip_Control',\n",
       " 'Tire_Size',\n",
       " 'Coupler',\n",
       " 'Coupler_System',\n",
       " 'Grouser_Tracks',\n",
       " 'Hydraulics_Flow',\n",
       " 'Track_Type',\n",
       " 'Undercarriage_Pad_Width',\n",
       " 'Stick_Length',\n",
       " 'Thumb',\n",
       " 'Pattern_Changer',\n",
       " 'Grouser_Type',\n",
       " 'Backhoe_Mounting',\n",
       " 'Blade_Type',\n",
       " 'Travel_Controls',\n",
       " 'Differential_Type',\n",
       " 'Steering_Controls',\n",
       " 'SaleYear',\n",
       " 'SaleMonth',\n",
       " 'SaleDay',\n",
       " 'SaleDayOfWeek',\n",
       " 'SaleDayOfYear',\n",
       " 'UsageBandis_missing',\n",
       " 'saledateis_missing------------------found :)',\n",
       " 'fiModelDescis_missing',\n",
       " 'fiBaseModelis_missing',\n",
       " 'fiSecondaryDescis_missing',\n",
       " 'fiModelSeriesis_missing',\n",
       " 'fiModelDescriptoris_missing',\n",
       " 'ProductSizeis_missing',\n",
       " 'fiProductClassDescis_missing',\n",
       " 'stateis_missing',\n",
       " 'ProductGroupis_missing',\n",
       " 'ProductGroupDescis_missing',\n",
       " 'Drive_Systemis_missing',\n",
       " 'Enclosureis_missing',\n",
       " 'Forksis_missing',\n",
       " 'Pad_Typeis_missing',\n",
       " 'Ride_Controlis_missing',\n",
       " 'Stickis_missing',\n",
       " 'Transmissionis_missing',\n",
       " 'Turbochargedis_missing',\n",
       " 'Blade_Extensionis_missing',\n",
       " 'Blade_Widthis_missing',\n",
       " 'Enclosure_Typeis_missing',\n",
       " 'Engine_Horsepoweris_missing',\n",
       " 'Hydraulicsis_missing',\n",
       " 'Pushblockis_missing',\n",
       " 'Ripperis_missing',\n",
       " 'Scarifieris_missing',\n",
       " 'Tip_Controlis_missing',\n",
       " 'Tire_Sizeis_missing',\n",
       " 'Coupleris_missing',\n",
       " 'Coupler_Systemis_missing',\n",
       " 'Grouser_Tracksis_missing',\n",
       " 'Hydraulics_Flowis_missing',\n",
       " 'Track_Typeis_missing',\n",
       " 'Undercarriage_Pad_Widthis_missing',\n",
       " 'Stick_Lengthis_missing',\n",
       " 'Thumbis_missing',\n",
       " 'Pattern_Changeris_missing',\n",
       " 'Grouser_Typeis_missing',\n",
       " 'Backhoe_Mountingis_missing',\n",
       " 'Blade_Typeis_missing',\n",
       " 'Travel_Controlsis_missing',\n",
       " 'Differential_Typeis_missing',\n",
       " 'Steering_Controlsis_missing']"
      ]
     },
     "execution_count": 169,
     "metadata": {},
     "output_type": "execute_result"
    }
   ],
   "source": [
    "i = x_train.columns\n",
    "j=df_test.columns\n",
    "[k+'------------------found :)' if k not in i else k for k in j]\n",
    "# can also be done like this :( \n",
    "# set(j) - set(i)"
   ]
  },
  {
   "cell_type": "code",
   "execution_count": 171,
   "id": "13164257",
   "metadata": {},
   "outputs": [],
   "source": [
    "df_test.drop('saledate',axis=1,inplace=True)\n",
    "df_test.drop('saledateis_missing',axis=1,inplace=True)"
   ]
  },
  {
   "cell_type": "markdown",
   "id": "7c390e98",
   "metadata": {},
   "source": [
    "# It's time to make predictions 😁"
   ]
  },
  {
   "cell_type": "code",
   "execution_count": 174,
   "id": "d6f55909",
   "metadata": {},
   "outputs": [],
   "source": [
    "test_preds = ideal_model.predict(df_test)"
   ]
  },
  {
   "cell_type": "code",
   "execution_count": 175,
   "id": "9ce25dd7",
   "metadata": {},
   "outputs": [
    {
     "data": {
      "text/plain": [
       "(12457,)"
      ]
     },
     "execution_count": 175,
     "metadata": {},
     "output_type": "execute_result"
    }
   ],
   "source": [
    "test_preds.shape"
   ]
  },
  {
   "cell_type": "code",
   "execution_count": 176,
   "id": "17f4be0a",
   "metadata": {},
   "outputs": [],
   "source": [
    "# Kaggle is asking for a data frame of columns SalesID and Salesprice\n",
    "df_preds = pd.DataFrame()\n",
    "df_preds['SalesID'] = df_test.SalesID\n",
    "df_preds['Saleprice'] = test_preds"
   ]
  },
  {
   "cell_type": "code",
   "execution_count": 180,
   "id": "9282866c",
   "metadata": {},
   "outputs": [],
   "source": [
    "# It's time to export the csv file\n",
    "df_preds.to_csv('price_predictions.csv',index=False)"
   ]
  },
  {
   "cell_type": "markdown",
   "id": "201f0008",
   "metadata": {},
   "source": [
    "## Feature Importance\n",
    "**Feature importance seeks to figure out which attributes in the data frame helps in predicting the target column in this project it's saleprice of a bulldozer.**"
   ]
  },
  {
   "cell_type": "code",
   "execution_count": 199,
   "id": "c311851d",
   "metadata": {},
   "outputs": [
    {
     "data": {
      "text/plain": [
       "array([3.20594417e-02, 2.24033728e-02, 4.31161588e-02, 2.18087858e-03,\n",
       "       3.38752196e-03, 1.97737303e-01, 3.40717479e-03, 1.11864492e-03,\n",
       "       4.62137915e-02, 4.77304681e-02, 6.14193538e-02, 4.57998241e-03,\n",
       "       1.90760991e-02, 1.55797694e-01, 4.43102540e-02, 5.92807219e-03,\n",
       "       3.32074836e-03, 3.93660965e-03, 2.68420606e-03, 7.10142589e-02,\n",
       "       4.67390819e-04, 3.84868754e-05, 1.08416722e-03, 8.84761733e-04,\n",
       "       1.64978998e-03, 2.74370793e-05, 2.10964975e-03, 3.00819436e-03,\n",
       "       2.32158775e-03, 1.62610648e-04, 4.27866371e-03, 2.07112676e-03,\n",
       "       2.99130576e-03, 1.67363701e-03, 2.49300761e-03, 1.08534273e-02,\n",
       "       7.95405129e-04, 8.86162004e-03, 4.14065331e-03, 1.30352056e-03,\n",
       "       1.10123735e-03, 8.94570772e-04, 2.70686221e-03, 5.68166419e-04,\n",
       "       5.85264155e-04, 3.32652652e-04, 4.05627603e-04, 3.19576943e-03,\n",
       "       1.12518739e-03, 3.18563500e-04, 2.26369422e-04, 7.39526956e-02,\n",
       "       3.79439210e-03, 5.69334231e-03, 2.93728059e-03, 9.92075312e-03,\n",
       "       3.85886331e-04, 0.00000000e+00, 0.00000000e+00, 1.85332212e-03,\n",
       "       1.40619273e-03, 8.77783629e-03, 1.79858432e-02, 0.00000000e+00,\n",
       "       0.00000000e+00, 0.00000000e+00, 0.00000000e+00, 1.15505659e-04,\n",
       "       4.85013452e-06, 3.49243853e-04, 2.98367026e-06, 8.52047424e-05,\n",
       "       5.87703078e-06, 5.30344560e-04, 5.38967719e-06, 2.45182132e-03,\n",
       "       5.86963929e-04, 3.19678629e-04, 1.50686294e-03, 2.40583025e-03,\n",
       "       1.77444478e-05, 2.01640183e-03, 2.15443869e-03, 5.36380961e-05,\n",
       "       6.27909774e-03, 2.68030690e-04, 1.60492662e-02, 9.80384963e-04,\n",
       "       1.93699049e-03, 7.07519062e-05, 6.03118743e-05, 4.33877134e-05,\n",
       "       3.47667893e-05, 5.96667133e-05, 5.13075774e-05, 1.20551157e-04,\n",
       "       1.23756540e-04, 1.07616673e-04, 2.95938633e-04, 9.91018302e-05])"
      ]
     },
     "execution_count": 199,
     "metadata": {},
     "output_type": "execute_result"
    }
   ],
   "source": [
    "ideal_model.feature_importances_"
   ]
  },
  {
   "cell_type": "code",
   "execution_count": 188,
   "id": "45e73495",
   "metadata": {},
   "outputs": [],
   "source": [
    "def plot_features(columns, importances, n=20):\n",
    "    df = (pd.DataFrame({'features': columns,'feature_importances':importances}).\n",
    "          sort_values('feature_importances',ascending=False).\n",
    "          reset_index(drop=True))\n",
    "    fig, ax = plt.subplots()\n",
    "    ax.barh(df.features[:n],df.feature_importances[:n])\n",
    "    ax.set_xlabel('Feature Importance')\n",
    "    ax.set_ylabel('Feature Name')\n",
    "    ax.invert_yaxis()"
   ]
  },
  {
   "cell_type": "code",
   "execution_count": 194,
   "id": "ca61c429",
   "metadata": {},
   "outputs": [
    {
     "data": {
      "image/png": "[encoded data removed]",
      "text/plain": [
       "<Figure size 640x480 with 1 Axes>"
      ]
     },
     "metadata": {},
     "output_type": "display_data"
    }
   ],
   "source": [
    "plot_features(x_train.columns, ideal_model.feature_importances_, 10)"
   ]
  },
  {
   "cell_type": "code",
   "execution_count": 201,
   "id": "59727988",
   "metadata": {},
   "outputs": [
    {
     "data": {
      "text/plain": [
       "5"
      ]
     },
     "execution_count": 201,
     "metadata": {},
     "output_type": "execute_result"
    }
   ],
   "source": [
    "list(ideal_model.feature_importances_).index(ideal_model.feature_importances_.max())"
   ]
  },
  {
   "cell_type": "code",
   "execution_count": 207,
   "id": "f0d93275",
   "metadata": {},
   "outputs": [
    {
     "data": {
      "text/plain": [
       "'YearMade'"
      ]
     },
     "execution_count": 207,
     "metadata": {},
     "output_type": "execute_result"
    }
   ],
   "source": [
    "df_test.columns[5]"
   ]
  },
  {
   "cell_type": "code",
   "execution_count": 209,
   "id": "686634ca",
   "metadata": {},
   "outputs": [
    {
     "data": {
      "text/plain": [
       "Enclosure\n",
       "5         2\n",
       "4         3\n",
       "2        18\n",
       "0       334\n",
       "3     92601\n",
       "1    141769\n",
       "6    177971\n",
       "Name: count, dtype: int64"
      ]
     },
     "execution_count": 209,
     "metadata": {},
     "output_type": "execute_result"
    }
   ],
   "source": [
    "df.Enclosure.value_counts(ascending=True, )"
   ]
  },
  {
   "cell_type": "markdown",
   "id": "711cd213",
   "metadata": {},
   "source": [
    "**FINIFSHING QUESTION:** why might knowing the feature importances of trained data be helpful?\n",
    "\n",
    "**FINAL CHALLENGE:** What other machine learning models can we use for this dataset?\n",
    "\n",
    "[we cal also try XGBoost.ai or CatBoost.ai]"
   ]
  },
  {
   "cell_type": "code",
   "execution_count": null,
   "id": "79effc15",
   "metadata": {},
   "outputs": [],
   "source": []
  }
 ],
 "metadata": {
  "kernelspec": {
   "display_name": "Python 3 (ipykernel)",
   "language": "python",
   "name": "python3"
  },
  "language_info": {
   "codemirror_mode": {
    "name": "ipython",
    "version": 3
   },
   "file_extension": ".py",
   "mimetype": "text/x-python",
   "name": "python",
   "nbconvert_exporter": "python",
   "pygments_lexer": "ipython3",
   "version": "3.11.7"
  }
 },
 "nbformat": 4,
 "nbformat_minor": 5
}
